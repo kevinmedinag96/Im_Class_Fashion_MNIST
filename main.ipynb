{
 "cells": [
  {
   "cell_type": "markdown",
   "metadata": {},
   "source": [
    "# Fashion MNIST: Loading & Preprocessing Data"
   ]
  },
  {
   "cell_type": "code",
   "execution_count": 1,
   "metadata": {},
   "outputs": [],
   "source": [
    "import numpy as np\n",
    "#import pandas as pd\n",
    "import matplotlib.pyplot as plt\n",
    "import time\n",
    "\n",
    "import torch\n",
    "import torch.nn as nn\n",
    "from torch.autograd import Variable\n",
    "import torchvision.models as models\n",
    "from torchvision.models import alexnet, AlexNet_Weights,mobilenet_v3_small,MobileNet_V3_Small_Weights, inception_v3, Inception_V3_Weights, vgg11, VGG11_Weights, resnet18,ResNet18_Weights\n",
    "from torchvision.transforms import v2\n",
    "import torch.optim as optim\n",
    "from torch.optim import lr_scheduler\n",
    "import os\n",
    "from tempfile import TemporaryDirectory\n",
    "\n",
    "import torchvision\n",
    "import torchvision.transforms as transforms\n",
    "from torch.utils.data import Dataset, DataLoader\n",
    "from torch.utils.tensorboard import SummaryWriter\n",
    "\n",
    "\n",
    "device = torch.device(\"cuda:0\" if torch.cuda.is_available() else \"cpu\")"
   ]
  },
  {
   "cell_type": "code",
   "execution_count": 2,
   "metadata": {},
   "outputs": [],
   "source": [
    "class TensorBoardLogger:\n",
    "    def __init__(self, log_dir):\n",
    "        self.summary_writer = SummaryWriter(log_dir)\n",
    "\n",
    "    def add_scalars(self, tag_step_value_dict):\n",
    "        \"\"\"\n",
    "        :param parent_tag: str, e.g. \"Training Loss\"\n",
    "        :param tag_step_value_dict: dict, e.g., {\"key\":(step, value), \"q_grad\":(10000, 1.11)}\n",
    "        \"\"\"\n",
    "        for tag, (step, value) in tag_step_value_dict.items():\n",
    "            self.summary_writer.add_scalar(tag, value, step)"
   ]
  },
  {
   "cell_type": "code",
   "execution_count": 3,
   "metadata": {},
   "outputs": [],
   "source": [
    "%load_ext tensorboard"
   ]
  },
  {
   "cell_type": "markdown",
   "metadata": {},
   "source": [
    "## Train, Validation, Test datasets"
   ]
  },
  {
   "cell_type": "code",
   "execution_count": 3,
   "metadata": {},
   "outputs": [
    {
     "name": "stdout",
     "output_type": "stream",
     "text": [
      "60000\n"
     ]
    }
   ],
   "source": [
    "import torch.utils\n",
    "import torch.utils.data\n",
    "\n",
    "\n",
    "train_set = torchvision.datasets.FashionMNIST(\"./data\", download=True, transform=\n",
    "                                                transforms.Compose([transforms.ToTensor()]))\n",
    "\n",
    "seed = torch.Generator().manual_seed(42)\n",
    "train_portion = 0.9\n",
    "test_portion = 0.1\n",
    "\n",
    "print(len(train_set))\n",
    "\n",
    "train_set, valid_set = torch.utils.data.random_split(train_set,[train_portion,test_portion], seed)\n",
    "\n",
    "\n",
    "\n",
    "test_set = torchvision.datasets.FashionMNIST(\"./data\", download=True, train=False, transform=\n",
    "                                               transforms.Compose([transforms.ToTensor()]))"
   ]
  },
  {
   "cell_type": "code",
   "execution_count": 7,
   "metadata": {},
   "outputs": [],
   "source": [
    "#Create Dataset Class\n",
    "class FashionMNISTDataset(Dataset):\n",
    "    def __init__(self,data) -> None:\n",
    "        super().__init__() \n",
    "\n",
    "        #construct attributes for the features and labels in the dataset\n",
    "        x = []\n",
    "        y = []\n",
    "\n",
    "        for i in range(len(data)):\n",
    "            x.append(data[i][0])\n",
    "            y.append(data[i][1])\n",
    "\n",
    "        \n",
    "\n",
    "        self.x = torch.stack(x)\n",
    "        self.y = torch.Tensor(y)\n",
    "        self.y = self.y.type(dtype=torch.LongTensor)\n",
    "\n",
    "    def __getitem__(self, index):\n",
    "        image = self.x[index]\n",
    "        label = self.y[index]\n",
    "\n",
    "        return image, label\n",
    "\n",
    "    def __len__(self):\n",
    "        return len(self.x)"
   ]
  },
  {
   "cell_type": "code",
   "execution_count": 8,
   "metadata": {},
   "outputs": [],
   "source": [
    "train_dataset = FashionMNISTDataset(train_set)\n",
    "valid_dataset = FashionMNISTDataset(valid_set)\n",
    "test_dataset = FashionMNISTDataset(test_set)\n",
    "\n",
    "train_loader = torch.utils.data.DataLoader(train_dataset, \n",
    "                                           batch_size=100)\n",
    "valid_loader = torch.utils.data.DataLoader(valid_dataset,batch_size=100)\n",
    "test_loader = torch.utils.data.DataLoader(test_dataset,\n",
    "                                          batch_size=100)\n",
    "\n",
    "dataloaders = {\"train\" : [train_loader,len(train_dataset)],\n",
    "               \"valid\" : [valid_loader,len(valid_dataset)],\n",
    "               \"test\" : [test_loader,len(test_loader)]\n",
    "\n",
    "}"
   ]
  },
  {
   "cell_type": "code",
   "execution_count": 10,
   "metadata": {},
   "outputs": [
    {
     "data": {
      "text/plain": [
       "torch.Size([1, 28, 28])"
      ]
     },
     "execution_count": 10,
     "metadata": {},
     "output_type": "execute_result"
    }
   ],
   "source": [
    "train_dataset[0]"
   ]
  },
  {
   "cell_type": "code",
   "execution_count": 11,
   "metadata": {},
   "outputs": [],
   "source": [
    "fashion_mnist_labels = {\n",
    "                 0: \"T-shirt/Top\",\n",
    "                 1: \"Trouser\",\n",
    "                 2: \"Pullover\",\n",
    "                 3: \"Dress\",\n",
    "                 4: \"Coat\", \n",
    "                 5: \"Sandal\", \n",
    "                 6: \"Shirt\",\n",
    "                 7: \"Sneaker\",\n",
    "                 8: \"Bag\",\n",
    "                 9: \"Ankle Boot\"\n",
    "                 }"
   ]
  },
  {
   "cell_type": "code",
   "execution_count": 12,
   "metadata": {},
   "outputs": [],
   "source": [
    "labels_size = len(fashion_mnist_labels.keys())"
   ]
  },
  {
   "cell_type": "code",
   "execution_count": 13,
   "metadata": {},
   "outputs": [],
   "source": [
    "def imshow(inp, normalized_image : str = False, title=None):\n",
    "    \"\"\"Display image for Tensor.\"\"\"\n",
    "    #inp = inp.numpy().transpose((-1,1, 2, 0))\n",
    "    inp = inp.numpy().transpose((1, 2, 0))\n",
    "    mean = np.array([0.485, 0.456, 0.406])\n",
    "    std = np.array([0.229, 0.224, 0.225])\n",
    "    if not normalized_image:\n",
    "        inp = std * inp + mean\n",
    "        inp = np.clip(inp, 0, 1)\n",
    "    plt.imshow(inp)\n",
    "    if title is not None:\n",
    "        plt.title(title)\n",
    "    plt.pause(0.001)  # pause a bit so that plots are updated"
   ]
  },
  {
   "cell_type": "code",
   "execution_count": 10,
   "metadata": {},
   "outputs": [
    {
     "name": "stdout",
     "output_type": "stream",
     "text": [
      "torch.Size([10, 1, 28, 28])\n",
      "torch.Size([3, 62, 242])\n",
      "['Ankle Boot', 'Pullover', 'Sandal', 'T-shirt/Top', 'Sandal', 'Trouser', 'Dress', 'Sandal', 'T-shirt/Top', 'Trouser']\n"
     ]
    },
    {
     "data": {
      "image/png": "[encoded data removed]",
      "text/plain": [
       "<Figure size 640x480 with 1 Axes>"
      ]
     },
     "metadata": {},
     "output_type": "display_data"
    }
   ],
   "source": [
    "# Get a batch of training data\n",
    "\n",
    "demo_loader  = torch.utils.data.DataLoader(train_dataset, batch_size=10)\n",
    "batch = next(iter(demo_loader))\n",
    "images, labels = batch\n",
    "\n",
    "print(images.shape)\n",
    "# Make a grid from batch\n",
    "out = torchvision.utils.make_grid(images)\n",
    "print(out.shape)\n",
    "\n",
    "title = [fashion_mnist_labels[int(x)] for x in labels]\n",
    "print(title)\n",
    "imshow(out, title=title)"
   ]
  },
  {
   "cell_type": "code",
   "execution_count": 11,
   "metadata": {},
   "outputs": [
    {
     "data": {
      "text/plain": [
       "6000"
      ]
     },
     "execution_count": 11,
     "metadata": {},
     "output_type": "execute_result"
    }
   ],
   "source": [
    "dataloaders[\"valid\"][1]"
   ]
  },
  {
   "cell_type": "code",
   "execution_count": 14,
   "metadata": {},
   "outputs": [],
   "source": [
    "def model_params_mode(model,mode : str):\n",
    "    \"\"\"\n",
    "    This functino freezes/unfreezes model parameters depending on the desired input\n",
    "    \"\"\"\n",
    "    if mode == \"freeze\":\n",
    "        grad = False\n",
    "    else:\n",
    "        grad = True\n",
    "\n",
    "    for param in model.parameters():\n",
    "            param.requires_grad = grad\n",
    "\n"
   ]
  },
  {
   "cell_type": "code",
   "execution_count": 16,
   "metadata": {},
   "outputs": [],
   "source": [
    "def update_model(model,out_dim : int, model_name : str):\n",
    "    \"\"\"\n",
    "    This function modifies the model architecture to be compatible with the fashion MNIST output layer\n",
    "    \"\"\"\n",
    "\n",
    "    \n",
    "\n",
    "    if model_name == \"AlexNet\":\n",
    "        in_features = model.classifier[1].in_features\n",
    "\n",
    "        model.classifier = nn.Sequential(\n",
    "        nn.Dropout(),\n",
    "        nn.Linear(in_features,out_dim),\n",
    "        nn.Softmax(dim=-1)\n",
    "    )\n",
    "\n",
    "\n",
    "    elif model_name == \"VGG\":\n",
    "        in_features =  model.classifier[0].in_features\n",
    "\n",
    "\n",
    "        model.classifier = nn.Sequential(\n",
    "            nn.Linear(in_features,out_dim),\n",
    "            nn.Softmax(dim=-1)\n",
    "        )\n",
    "\n",
    "    elif model_name == \"MobileNet\":\n",
    "        in_features = model.classifier[3].in_features\n",
    "\n",
    "        model.classifier[3] = nn.Sequential(\n",
    "            nn.Linear(in_features,out_dim),\n",
    "            nn.Softmax(dim=-1)\n",
    "        )\n",
    "\n",
    "    elif model_name == \"InceptionV3\":\n",
    "        in_features = model.fc.in_features\n",
    "\n",
    "        model.fc = nn.Sequential(\n",
    "            nn.Linear(in_features,out_dim),\n",
    "            nn.Softmax(dim=-1)\n",
    "        )\n",
    "    \n",
    "\n",
    "    return model\n",
    "\n"
   ]
  },
  {
   "cell_type": "code",
   "execution_count": 14,
   "metadata": {},
   "outputs": [],
   "source": [
    "class Model(nn.Module):\n",
    "    def __init__(self, base_model,neurons : list,base_model_name : str = None) -> None:\n",
    "        super().__init__()\n",
    "        self.base_model = base_model\n",
    "        self.base_model_name = base_model_name\n",
    "        self.neurons = neurons\n",
    "        self.replaceOutputLayer()\n",
    "        \n",
    "\n",
    "    def replaceOutputLayer(self):\n",
    "        for param in self.base_model.parameters():\n",
    "            param.requires_grad = False\n",
    "\n",
    "        last_layer = None\n",
    "        if self.base_model_name == \"AlexNet\": \n",
    "\n",
    "            old_out_features = self.base_model.classifier[6].out_features\n",
    "            #self.base_model.classifier = nn.Linear(old_in_features,self.neurons[1])\n",
    "            \n",
    "        self.out_layer_1 = nn.Linear(old_out_features,self.neurons[1])\n",
    "\n",
    "\n",
    "\n",
    "    def forward(self,x):\n",
    "        x = self.base_model(x)\n",
    "        return self.out_layer_1(x)\n",
    "\n"
   ]
  },
  {
   "cell_type": "code",
   "execution_count": 17,
   "metadata": {},
   "outputs": [],
   "source": [
    "transform_im = v2.Compose([\n",
    "    v2.Resize(size=(299,299)),\n",
    "    #v2.RandomResizedCrop(size=(299, 299), antialias=True),\n",
    "    #v2.RandomHorizontalFlip(p=0.5),\n",
    "    v2.Normalize(mean=[0.485, 0.456, 0.406], std=[0.229, 0.224, 0.225]),\n",
    "])"
   ]
  },
  {
   "cell_type": "code",
   "execution_count": 19,
   "metadata": {},
   "outputs": [
    {
     "name": "stderr",
     "output_type": "stream",
     "text": [
      "Clipping input data to the valid range for imshow with RGB data ([0..1] for floats or [0..255] for integers).\n"
     ]
    },
    {
     "name": "stdout",
     "output_type": "stream",
     "text": [
      "torch.Size([10, 1, 28, 28])\n",
      "torch.Size([10, 3, 299, 299])\n",
      "torch.Size([3, 604, 2410])\n"
     ]
    },
    {
     "data": {
      "image/png": "[encoded data removed]",
      "text/plain": [
       "<Figure size 640x480 with 1 Axes>"
      ]
     },
     "metadata": {},
     "output_type": "display_data"
    }
   ],
   "source": [
    "demo_loader  = torch.utils.data.DataLoader(train_dataset, batch_size=10)\n",
    "batch = next(iter(demo_loader))\n",
    "images, labels = batch\n",
    "print(images.shape)\n",
    "images = transform_im(images)\n",
    "print(images.shape)\n",
    "\n",
    "# Make a grid from batch\n",
    "out = torchvision.utils.make_grid(images)\n",
    "print(out.shape)\n",
    "\n",
    "title = [fashion_mnist_labels[int(x)] for x in labels]\n",
    "\n",
    "imshow(out,True, title=title)"
   ]
  },
  {
   "cell_type": "code",
   "execution_count": 20,
   "metadata": {},
   "outputs": [],
   "source": [
    "def train_model(model, criterion, optimizer,dataloaders,weight_dir,logger : TensorBoardLogger,scheduler = None, num_epochs=25,debug = False):\n",
    "        since = time.time()\n",
    "\n",
    "   \n",
    "        os.makedirs(weight_dir, exist_ok=True)\n",
    "        best_model_params_path = os.path.join(weight_dir, 'best_model_params.pt')\n",
    "\n",
    "        torch.save(model.state_dict(), best_model_params_path)\n",
    "        best_acc = 0.0\n",
    "        log_vars = {}\n",
    "        \n",
    "\n",
    "        for epoch in range(num_epochs):\n",
    "\n",
    "            log_vars.update({\n",
    "                \"learning_rate\" : (epoch,scheduler.get_last_lr()[0] if scheduler else optimizer.param_groups[0]['lr'])\n",
    "            }\n",
    "            )\n",
    "\n",
    "\n",
    "            if debug:\n",
    "                print(f'Epoch {epoch}/{num_epochs - 1}')\n",
    "                print('-' * 10)\n",
    "\n",
    "            # Each epoch has a training and validation phase\n",
    "            for phase in ['train', 'valid']:\n",
    "                if phase == 'train':\n",
    "                    model.train()  # Set model to training mode\n",
    "                else:\n",
    "                    model.eval()   # Set model to evaluate mode\n",
    "\n",
    "                running_loss = 0.0\n",
    "                running_corrects = 0\n",
    "\n",
    "                # Iterate over data.\n",
    "                for inputs, labels in dataloaders[phase][0]:\n",
    "                    inputs = inputs.to(device)\n",
    "                    labels = labels.to(device)\n",
    "\n",
    "                    # zero the parameter gradients\n",
    "                    optimizer.zero_grad()\n",
    "\n",
    "                    # forward\n",
    "                    # track history if only in train\n",
    "                    with torch.set_grad_enabled(phase == 'train'):\n",
    "                        outputs = model(transform_im(inputs))\n",
    "\n",
    "                        outputs = outputs[0] if isinstance(outputs, torchvision.models.inception.InceptionOutputs) else outputs\n",
    "                        _, preds = torch.max(outputs, 1)\n",
    "                        loss = criterion(outputs, labels)\n",
    "\n",
    "                        # backward + optimize only if in training phase\n",
    "                        if phase == 'train':\n",
    "                            loss.backward()\n",
    "                            optimizer.step()\n",
    "\n",
    "                    # statistics\n",
    "                    running_loss += loss.item() * inputs.size(0)\n",
    "                    running_corrects += torch.sum(preds == labels.data)\n",
    "                    \n",
    "                if phase == 'train' and scheduler:\n",
    "                    scheduler.step()\n",
    "\n",
    "                epoch_loss = running_loss / dataloaders[phase][1]\n",
    "                epoch_acc = running_corrects.double() / dataloaders[phase][1]\n",
    "\n",
    "                if debug:\n",
    "                    print(f'{phase} Loss: {epoch_loss:.4f} Acc: {epoch_acc:.4f}\\n')\n",
    "\n",
    "                # deep copy the model\n",
    "                if phase == 'valid' and epoch_acc > best_acc:\n",
    "                    best_acc = epoch_acc\n",
    "                    torch.save(model.state_dict(), best_model_params_path)\n",
    "\n",
    "                log_vars.update(\n",
    "                    {f\"{phase}/Loss\" : (epoch,epoch_loss),\n",
    "                                      f\"{phase}/Accuracy\" : (epoch,epoch_acc.cpu().numpy())\n",
    "                    }\n",
    "                )\n",
    "                \n",
    "                logger.add_scalars(log_vars)\n",
    "        \n",
    "\n",
    "        time_elapsed = time.time() - since\n",
    "        if debug:\n",
    "            print(f'Training complete in {time_elapsed // 60:.0f}m {time_elapsed % 60:.0f}s')\n",
    "            print(f'Best val Acc: {best_acc:4f}')\n",
    "\n",
    "        # load best model weights\n",
    "        model.load_state_dict(torch.load(best_model_params_path))\n",
    "        return model"
   ]
  },
  {
   "cell_type": "code",
   "execution_count": 18,
   "metadata": {},
   "outputs": [],
   "source": [
    "def test_model(model,logger : TensorBoardLogger):\n",
    "    model.eval()\n",
    "\n",
    "    log_vars = {}\n",
    "\n",
    "    tot_accurate_pred = 0\n",
    "\n",
    "\n",
    "    for i,(image,labels) in enumerate(dataloaders[\"test\"][0]):\n",
    "        image,labels = image.to(device),labels.to(device)\n",
    "\n",
    "        #predictions...\n",
    "        with torch.no_grad():\n",
    "            predictions = model(transform_im(image))\n",
    "            _,predictions = torch.max(predictions,dim=-1)\n",
    "            accurate_pred = torch.sum(predictions == labels.data)\n",
    "\n",
    "\n",
    "        log_vars.update(\n",
    "            {\n",
    "                \"Test/Accuracy_Batch\" : (i, accurate_pred.double().cpu().numpy() / image.shape[0])\n",
    "            }\n",
    "        )\n",
    "\n",
    "        logger.add_scalars(log_vars)\n",
    "\n",
    "        tot_accurate_pred += accurate_pred.double().cpu().numpy()\n",
    "\n",
    "    logger.add_scalars(\n",
    "            {\n",
    "                \"Test/Accuracy_Tot\" : (0, tot_accurate_pred / dataloaders[\"test\"][1])\n",
    "            }\n",
    "        )\n",
    "    \n",
    "\n",
    "    \n",
    "\n",
    "\n",
    "\n"
   ]
  },
  {
   "cell_type": "markdown",
   "metadata": {},
   "source": [
    "# AlexNet for Image Classification : Fashion MNIST"
   ]
  },
  {
   "cell_type": "code",
   "execution_count": 21,
   "metadata": {},
   "outputs": [
    {
     "name": "stderr",
     "output_type": "stream",
     "text": [
      "c:\\Users\\kevin\\miniconda3\\envs\\neural_sys_fashion_mnist\\Lib\\site-packages\\torchvision\\models\\_utils.py:135: UserWarning: Using 'weights' as positional parameter(s) is deprecated since 0.13 and may be removed in the future. Please use keyword parameter(s) instead.\n",
      "  warnings.warn(\n"
     ]
    }
   ],
   "source": [
    "alexnet_model = alexnet(AlexNet_Weights.DEFAULT)"
   ]
  },
  {
   "cell_type": "code",
   "execution_count": 22,
   "metadata": {},
   "outputs": [
    {
     "data": {
      "text/plain": [
       "AlexNet(\n",
       "  (features): Sequential(\n",
       "    (0): Conv2d(3, 64, kernel_size=(11, 11), stride=(4, 4), padding=(2, 2))\n",
       "    (1): ReLU(inplace=True)\n",
       "    (2): MaxPool2d(kernel_size=3, stride=2, padding=0, dilation=1, ceil_mode=False)\n",
       "    (3): Conv2d(64, 192, kernel_size=(5, 5), stride=(1, 1), padding=(2, 2))\n",
       "    (4): ReLU(inplace=True)\n",
       "    (5): MaxPool2d(kernel_size=3, stride=2, padding=0, dilation=1, ceil_mode=False)\n",
       "    (6): Conv2d(192, 384, kernel_size=(3, 3), stride=(1, 1), padding=(1, 1))\n",
       "    (7): ReLU(inplace=True)\n",
       "    (8): Conv2d(384, 256, kernel_size=(3, 3), stride=(1, 1), padding=(1, 1))\n",
       "    (9): ReLU(inplace=True)\n",
       "    (10): Conv2d(256, 256, kernel_size=(3, 3), stride=(1, 1), padding=(1, 1))\n",
       "    (11): ReLU(inplace=True)\n",
       "    (12): MaxPool2d(kernel_size=3, stride=2, padding=0, dilation=1, ceil_mode=False)\n",
       "  )\n",
       "  (avgpool): AdaptiveAvgPool2d(output_size=(6, 6))\n",
       "  (classifier): Sequential(\n",
       "    (0): Dropout(p=0.5, inplace=False)\n",
       "    (1): Linear(in_features=9216, out_features=4096, bias=True)\n",
       "    (2): ReLU(inplace=True)\n",
       "    (3): Dropout(p=0.5, inplace=False)\n",
       "    (4): Linear(in_features=4096, out_features=4096, bias=True)\n",
       "    (5): ReLU(inplace=True)\n",
       "    (6): Linear(in_features=4096, out_features=1000, bias=True)\n",
       "  )\n",
       ")"
      ]
     },
     "execution_count": 22,
     "metadata": {},
     "output_type": "execute_result"
    }
   ],
   "source": [
    "alexnet_model"
   ]
  },
  {
   "cell_type": "code",
   "execution_count": 23,
   "metadata": {},
   "outputs": [],
   "source": [
    "model_params_mode(alexnet_model,\"freeze\")\n",
    "alexnet_model = update_model(alexnet_model,labels_size,\"AlexNet\")"
   ]
  },
  {
   "cell_type": "code",
   "execution_count": 24,
   "metadata": {},
   "outputs": [
    {
     "data": {
      "text/plain": [
       "AlexNet(\n",
       "  (features): Sequential(\n",
       "    (0): Conv2d(3, 64, kernel_size=(11, 11), stride=(4, 4), padding=(2, 2))\n",
       "    (1): ReLU(inplace=True)\n",
       "    (2): MaxPool2d(kernel_size=3, stride=2, padding=0, dilation=1, ceil_mode=False)\n",
       "    (3): Conv2d(64, 192, kernel_size=(5, 5), stride=(1, 1), padding=(2, 2))\n",
       "    (4): ReLU(inplace=True)\n",
       "    (5): MaxPool2d(kernel_size=3, stride=2, padding=0, dilation=1, ceil_mode=False)\n",
       "    (6): Conv2d(192, 384, kernel_size=(3, 3), stride=(1, 1), padding=(1, 1))\n",
       "    (7): ReLU(inplace=True)\n",
       "    (8): Conv2d(384, 256, kernel_size=(3, 3), stride=(1, 1), padding=(1, 1))\n",
       "    (9): ReLU(inplace=True)\n",
       "    (10): Conv2d(256, 256, kernel_size=(3, 3), stride=(1, 1), padding=(1, 1))\n",
       "    (11): ReLU(inplace=True)\n",
       "    (12): MaxPool2d(kernel_size=3, stride=2, padding=0, dilation=1, ceil_mode=False)\n",
       "  )\n",
       "  (avgpool): AdaptiveAvgPool2d(output_size=(6, 6))\n",
       "  (classifier): Sequential(\n",
       "    (0): Dropout(p=0.5, inplace=False)\n",
       "    (1): Linear(in_features=9216, out_features=10, bias=True)\n",
       "    (2): Softmax(dim=-1)\n",
       "  )\n",
       ")"
      ]
     },
     "execution_count": 24,
     "metadata": {},
     "output_type": "execute_result"
    }
   ],
   "source": [
    "alexnet_model"
   ]
  },
  {
   "cell_type": "code",
   "execution_count": 23,
   "metadata": {},
   "outputs": [
    {
     "data": {
      "text/plain": [
       "tensor([[0.1163, 0.0628, 0.1242, 0.1029, 0.0649, 0.1138, 0.0786, 0.1592, 0.0943,\n",
       "         0.0830],\n",
       "        [0.0915, 0.0642, 0.1396, 0.1226, 0.0942, 0.1493, 0.0719, 0.1222, 0.0876,\n",
       "         0.0569],\n",
       "        [0.1092, 0.0975, 0.1229, 0.1073, 0.0964, 0.1152, 0.0904, 0.0940, 0.0920,\n",
       "         0.0752],\n",
       "        [0.0731, 0.0940, 0.1504, 0.0979, 0.1120, 0.1246, 0.0605, 0.0968, 0.1305,\n",
       "         0.0602],\n",
       "        [0.1345, 0.0813, 0.1135, 0.0990, 0.0717, 0.1215, 0.0435, 0.0998, 0.1386,\n",
       "         0.0965],\n",
       "        [0.0920, 0.0556, 0.1147, 0.1343, 0.0811, 0.2155, 0.0642, 0.0996, 0.0936,\n",
       "         0.0495],\n",
       "        [0.0503, 0.0906, 0.1836, 0.1178, 0.0695, 0.1260, 0.0695, 0.0909, 0.1371,\n",
       "         0.0646],\n",
       "        [0.1673, 0.1098, 0.1031, 0.0976, 0.0803, 0.1122, 0.0489, 0.1231, 0.0824,\n",
       "         0.0753],\n",
       "        [0.0783, 0.0633, 0.1505, 0.0979, 0.1166, 0.1680, 0.0882, 0.0829, 0.0981,\n",
       "         0.0562],\n",
       "        [0.0840, 0.0510, 0.1255, 0.1296, 0.0805, 0.1913, 0.0665, 0.1009, 0.1052,\n",
       "         0.0655]], device='cuda:0')"
      ]
     },
     "execution_count": 23,
     "metadata": {},
     "output_type": "execute_result"
    }
   ],
   "source": [
    "demo_loader  = torch.utils.data.DataLoader(train_dataset, batch_size=10)\n",
    "batch = next(iter(demo_loader))\n",
    "images, labels = batch\n",
    "inputs = transform_im(images)\n",
    "with torch.no_grad():\n",
    "    inputs,labels = inputs.to(device), labels.to(device)\n",
    "    alexnet_model.to(device)\n",
    "    alexnet_model.eval()\n",
    "    outputs = alexnet_model(inputs)\n",
    "outputs"
   ]
  },
  {
   "cell_type": "markdown",
   "metadata": {},
   "source": [
    "## Training AlexNet for Image Classification : Fashion MNIST"
   ]
  },
  {
   "cell_type": "code",
   "execution_count": 24,
   "metadata": {},
   "outputs": [],
   "source": [
    "alexnet_model= alexnet_model.to(device)\n",
    "criterion = nn.CrossEntropyLoss()\n",
    "\n",
    "# Observe that only parameters of final layer are being optimized as\n",
    "# opposed to before.\n",
    "optimizer_alexnet = optim.Adam(alexnet_model.classifier.parameters(), lr=0.0001)\n",
    "\n",
    "# Decay LR by a factor of 0.1 every 7 epochs\n",
    "\n",
    "exp_lr_scheduler = lr_scheduler.ExponentialLR(optimizer_alexnet,0.8)\n",
    "#lr_scheduler.StepLR(optimizer_alexnet, step_size=2, gamma=0.1)\n"
   ]
  },
  {
   "cell_type": "code",
   "execution_count": 25,
   "metadata": {},
   "outputs": [],
   "source": [
    "dir = os.path.abspath(os.getcwd()) + \"/model/AlexNet_FE/\"\n",
    "log_dir = os.path.abspath(os.getcwd()) + \"/runs/AlexNet_FE/\"\n",
    "os.makedirs(log_dir, exist_ok=True)\n",
    "logger = TensorBoardLogger(log_dir)"
   ]
  },
  {
   "cell_type": "code",
   "execution_count": null,
   "metadata": {},
   "outputs": [],
   "source": [
    "alexnet_model = train_model(alexnet_model, criterion, optimizer_alexnet,\n",
    "                         dataloaders,dir,logger, num_epochs=30,debug=True)"
   ]
  },
  {
   "cell_type": "code",
   "execution_count": null,
   "metadata": {},
   "outputs": [],
   "source": [
    "#Test in AlexNet FeatureExtractor\n",
    "#log_dir = os.path.abspath(os.getcwd()) + \"/runs/AlexNet_FeatureExtractor_Test/\"\n",
    "#os.makedirs(log_dir, exist_ok=True)\n",
    "#logger = TensorBoardLogger(log_dir)\n",
    "test_model(alexnet_model,logger)"
   ]
  },
  {
   "cell_type": "code",
   "execution_count": 25,
   "metadata": {},
   "outputs": [
    {
     "name": "stderr",
     "output_type": "stream",
     "text": [
      "UsageError: Line magic function `%tensorboard` not found.\n"
     ]
    }
   ],
   "source": [
    "%tensorboard --logdir runs/"
   ]
  },
  {
   "cell_type": "markdown",
   "metadata": {},
   "source": [
    "## Fine-Tuning AlexNet for Image Classification : Fashion MNIST"
   ]
  },
  {
   "cell_type": "code",
   "execution_count": null,
   "metadata": {},
   "outputs": [],
   "source": [
    "dir = os.path.abspath(os.getcwd()) + \"/model/AlexNet_FineTune/\"\n",
    "log_dir = os.path.abspath(os.getcwd()) + \"/runs/AlexNet_FineTune/\"\n",
    "os.makedirs(log_dir, exist_ok=True)\n",
    "logger = TensorBoardLogger(log_dir)"
   ]
  },
  {
   "cell_type": "code",
   "execution_count": null,
   "metadata": {},
   "outputs": [
    {
     "name": "stdout",
     "output_type": "stream",
     "text": [
      "Epoch 0/9\n",
      "----------\n",
      "train Loss: 1.5337 Acc: 0.9316\n",
      "\n",
      "valid Loss: 1.5471 Acc: 0.9148\n",
      "\n",
      "Epoch 1/9\n",
      "----------\n",
      "train Loss: 1.5288 Acc: 0.9357\n",
      "\n",
      "valid Loss: 1.5448 Acc: 0.9180\n",
      "\n",
      "Epoch 2/9\n",
      "----------\n",
      "train Loss: 1.5248 Acc: 0.9400\n",
      "\n",
      "valid Loss: 1.5439 Acc: 0.9178\n",
      "\n",
      "Epoch 3/9\n",
      "----------\n",
      "train Loss: 1.5223 Acc: 0.9416\n",
      "\n",
      "valid Loss: 1.5418 Acc: 0.9208\n",
      "\n",
      "Epoch 4/9\n",
      "----------\n",
      "train Loss: 1.5205 Acc: 0.9432\n",
      "\n",
      "valid Loss: 1.5413 Acc: 0.9205\n",
      "\n",
      "Epoch 5/9\n",
      "----------\n",
      "train Loss: 1.5190 Acc: 0.9451\n",
      "\n",
      "valid Loss: 1.5413 Acc: 0.9193\n",
      "\n",
      "Epoch 6/9\n",
      "----------\n",
      "train Loss: 1.5168 Acc: 0.9470\n",
      "\n",
      "valid Loss: 1.5410 Acc: 0.9218\n",
      "\n",
      "Epoch 7/9\n",
      "----------\n",
      "train Loss: 1.5145 Acc: 0.9493\n",
      "\n",
      "valid Loss: 1.5397 Acc: 0.9208\n",
      "\n",
      "Epoch 8/9\n",
      "----------\n",
      "train Loss: 1.5138 Acc: 0.9503\n",
      "\n",
      "valid Loss: 1.5392 Acc: 0.9225\n",
      "\n",
      "Epoch 9/9\n",
      "----------\n",
      "train Loss: 1.5118 Acc: 0.9524\n",
      "\n",
      "valid Loss: 1.5378 Acc: 0.9248\n",
      "\n",
      "Training complete in 81m 36s\n",
      "Best val Acc: 0.924833\n"
     ]
    }
   ],
   "source": [
    "model_params_mode(alexnet_model, \"unfreeze\")\n",
    "\n",
    "optimizer_alexnet = optim.Adam(alexnet_model.parameters(), lr=0.00001)\n",
    "\n",
    "# Decay LR by a factor of 0.1 every 7 epochs\n",
    "exp_lr_scheduler = lr_scheduler.StepLR(optimizer_alexnet, step_size=1, gamma=0.00001)\n",
    "\n",
    "alexnet_model = train_model(alexnet_model, criterion, optimizer_alexnet,\n",
    "                         dataloaders,dir,logger, num_epochs=10,debug=True)"
   ]
  },
  {
   "cell_type": "markdown",
   "metadata": {},
   "source": [
    "## Test AlexNet"
   ]
  },
  {
   "cell_type": "code",
   "execution_count": 28,
   "metadata": {},
   "outputs": [
    {
     "data": {
      "text/plain": [
       "<All keys matched successfully>"
      ]
     },
     "execution_count": 28,
     "metadata": {},
     "output_type": "execute_result"
    }
   ],
   "source": [
    "dir = os.path.abspath(os.getcwd()) + \"/model/AlexNet_FineTune/\"\n",
    "log_dir = os.path.abspath(os.getcwd()) + \"/runs/AlexNet_FineTune/\"\n",
    "logger = TensorBoardLogger(log_dir)\n",
    "\n",
    "alexnet_model.load_state_dict(torch.load(dir + 'best_model_params.pt'))"
   ]
  },
  {
   "cell_type": "code",
   "execution_count": 29,
   "metadata": {},
   "outputs": [],
   "source": [
    "test_model(alexnet_model,logger)"
   ]
  },
  {
   "cell_type": "markdown",
   "metadata": {},
   "source": [
    "# VGG16 for Image Classification : Fashion MNIST"
   ]
  },
  {
   "cell_type": "code",
   "execution_count": 30,
   "metadata": {},
   "outputs": [
    {
     "name": "stderr",
     "output_type": "stream",
     "text": [
      "c:\\Users\\kevin\\miniconda3\\envs\\neural_sys_fashion_mnist\\Lib\\site-packages\\torchvision\\models\\_utils.py:135: UserWarning: Using 'weights' as positional parameter(s) is deprecated since 0.13 and may be removed in the future. Please use keyword parameter(s) instead.\n",
      "  warnings.warn(\n"
     ]
    }
   ],
   "source": [
    "vgg_model = vgg11(VGG11_Weights.DEFAULT)"
   ]
  },
  {
   "cell_type": "code",
   "execution_count": 31,
   "metadata": {},
   "outputs": [
    {
     "data": {
      "text/plain": [
       "VGG(\n",
       "  (features): Sequential(\n",
       "    (0): Conv2d(3, 64, kernel_size=(3, 3), stride=(1, 1), padding=(1, 1))\n",
       "    (1): ReLU(inplace=True)\n",
       "    (2): MaxPool2d(kernel_size=2, stride=2, padding=0, dilation=1, ceil_mode=False)\n",
       "    (3): Conv2d(64, 128, kernel_size=(3, 3), stride=(1, 1), padding=(1, 1))\n",
       "    (4): ReLU(inplace=True)\n",
       "    (5): MaxPool2d(kernel_size=2, stride=2, padding=0, dilation=1, ceil_mode=False)\n",
       "    (6): Conv2d(128, 256, kernel_size=(3, 3), stride=(1, 1), padding=(1, 1))\n",
       "    (7): ReLU(inplace=True)\n",
       "    (8): Conv2d(256, 256, kernel_size=(3, 3), stride=(1, 1), padding=(1, 1))\n",
       "    (9): ReLU(inplace=True)\n",
       "    (10): MaxPool2d(kernel_size=2, stride=2, padding=0, dilation=1, ceil_mode=False)\n",
       "    (11): Conv2d(256, 512, kernel_size=(3, 3), stride=(1, 1), padding=(1, 1))\n",
       "    (12): ReLU(inplace=True)\n",
       "    (13): Conv2d(512, 512, kernel_size=(3, 3), stride=(1, 1), padding=(1, 1))\n",
       "    (14): ReLU(inplace=True)\n",
       "    (15): MaxPool2d(kernel_size=2, stride=2, padding=0, dilation=1, ceil_mode=False)\n",
       "    (16): Conv2d(512, 512, kernel_size=(3, 3), stride=(1, 1), padding=(1, 1))\n",
       "    (17): ReLU(inplace=True)\n",
       "    (18): Conv2d(512, 512, kernel_size=(3, 3), stride=(1, 1), padding=(1, 1))\n",
       "    (19): ReLU(inplace=True)\n",
       "    (20): MaxPool2d(kernel_size=2, stride=2, padding=0, dilation=1, ceil_mode=False)\n",
       "  )\n",
       "  (avgpool): AdaptiveAvgPool2d(output_size=(7, 7))\n",
       "  (classifier): Sequential(\n",
       "    (0): Linear(in_features=25088, out_features=4096, bias=True)\n",
       "    (1): ReLU(inplace=True)\n",
       "    (2): Dropout(p=0.5, inplace=False)\n",
       "    (3): Linear(in_features=4096, out_features=4096, bias=True)\n",
       "    (4): ReLU(inplace=True)\n",
       "    (5): Dropout(p=0.5, inplace=False)\n",
       "    (6): Linear(in_features=4096, out_features=1000, bias=True)\n",
       "  )\n",
       ")"
      ]
     },
     "execution_count": 31,
     "metadata": {},
     "output_type": "execute_result"
    }
   ],
   "source": [
    "vgg_model"
   ]
  },
  {
   "cell_type": "code",
   "execution_count": 32,
   "metadata": {},
   "outputs": [],
   "source": [
    "model_params_mode(vgg_model,\"freeze\")\n",
    "vgg_model = update_model(vgg_model,labels_size,\"VGG\")"
   ]
  },
  {
   "cell_type": "markdown",
   "metadata": {},
   "source": [
    "## Training VGG16 for Image Classification : Fashion MNIST"
   ]
  },
  {
   "cell_type": "code",
   "execution_count": 35,
   "metadata": {},
   "outputs": [],
   "source": [
    "vgg_model= vgg_model.to(device)\n",
    "criterion = nn.CrossEntropyLoss()\n",
    "\n",
    "# Observe that only parameters of final layer are being optimized as\n",
    "# opposed to before.\n",
    "optimizer_vggnet = optim.Adam(vgg_model.classifier.parameters(), lr=0.0001)\n",
    "\n",
    "# Decay LR by a factor of 0.1 every 7 epochs\n",
    "\n",
    "exp_lr_scheduler = lr_scheduler.ExponentialLR(optimizer_vggnet,0.8)"
   ]
  },
  {
   "cell_type": "code",
   "execution_count": null,
   "metadata": {},
   "outputs": [],
   "source": [
    "dir = os.path.abspath(os.getcwd()) + \"/model/VGG_FE/\"\n",
    "log_dir = os.path.abspath(os.getcwd()) + \"/runs/VGG_FE/\"\n",
    "os.makedirs(log_dir, exist_ok=True)\n",
    "logger = TensorBoardLogger(log_dir)"
   ]
  },
  {
   "cell_type": "code",
   "execution_count": null,
   "metadata": {},
   "outputs": [
    {
     "name": "stdout",
     "output_type": "stream",
     "text": [
      "Epoch 0/29\n",
      "----------\n",
      "train Loss: 1.6556 Acc: 0.8509\n",
      "\n",
      "valid Loss: 1.5888 Acc: 0.8947\n",
      "\n",
      "Epoch 1/29\n",
      "----------\n",
      "train Loss: 1.5704 Acc: 0.9108\n",
      "\n",
      "valid Loss: 1.5686 Acc: 0.9078\n",
      "\n",
      "Epoch 2/29\n",
      "----------\n",
      "train Loss: 1.5531 Acc: 0.9246\n",
      "\n",
      "valid Loss: 1.5593 Acc: 0.9152\n",
      "\n",
      "Epoch 3/29\n",
      "----------\n",
      "train Loss: 1.5428 Acc: 0.9333\n",
      "\n",
      "valid Loss: 1.5536 Acc: 0.9190\n",
      "\n",
      "Epoch 4/29\n",
      "----------\n",
      "train Loss: 1.5354 Acc: 0.9398\n",
      "\n",
      "valid Loss: 1.5498 Acc: 0.9215\n",
      "\n",
      "Epoch 5/29\n",
      "----------\n",
      "train Loss: 1.5297 Acc: 0.9452\n",
      "\n",
      "valid Loss: 1.5470 Acc: 0.9232\n",
      "\n",
      "Epoch 6/29\n",
      "----------\n",
      "train Loss: 1.5250 Acc: 0.9490\n",
      "\n",
      "valid Loss: 1.5449 Acc: 0.9257\n",
      "\n",
      "Epoch 7/29\n",
      "----------\n",
      "train Loss: 1.5209 Acc: 0.9524\n",
      "\n",
      "valid Loss: 1.5433 Acc: 0.9272\n",
      "\n",
      "Epoch 8/29\n",
      "----------\n",
      "train Loss: 1.5173 Acc: 0.9558\n",
      "\n",
      "valid Loss: 1.5420 Acc: 0.9278\n",
      "\n",
      "Epoch 9/29\n",
      "----------\n",
      "train Loss: 1.5142 Acc: 0.9586\n",
      "\n",
      "valid Loss: 1.5410 Acc: 0.9285\n",
      "\n",
      "Epoch 10/29\n",
      "----------\n",
      "train Loss: 1.5115 Acc: 0.9610\n",
      "\n",
      "valid Loss: 1.5402 Acc: 0.9282\n",
      "\n",
      "Epoch 11/29\n",
      "----------\n",
      "train Loss: 1.5090 Acc: 0.9631\n",
      "\n",
      "valid Loss: 1.5396 Acc: 0.9288\n",
      "\n",
      "Epoch 12/29\n",
      "----------\n",
      "train Loss: 1.5068 Acc: 0.9649\n",
      "\n",
      "valid Loss: 1.5391 Acc: 0.9290\n",
      "\n",
      "Epoch 13/29\n",
      "----------\n",
      "train Loss: 1.5047 Acc: 0.9663\n",
      "\n",
      "valid Loss: 1.5386 Acc: 0.9300\n",
      "\n",
      "Epoch 14/29\n",
      "----------\n",
      "train Loss: 1.5029 Acc: 0.9681\n",
      "\n",
      "valid Loss: 1.5382 Acc: 0.9300\n",
      "\n",
      "Epoch 15/29\n",
      "----------\n",
      "train Loss: 1.5011 Acc: 0.9695\n",
      "\n",
      "valid Loss: 1.5380 Acc: 0.9293\n",
      "\n",
      "Epoch 16/29\n",
      "----------\n",
      "train Loss: 1.4995 Acc: 0.9706\n",
      "\n",
      "valid Loss: 1.5377 Acc: 0.9300\n",
      "\n",
      "Epoch 17/29\n",
      "----------\n",
      "train Loss: 1.4980 Acc: 0.9718\n",
      "\n",
      "valid Loss: 1.5375 Acc: 0.9307\n",
      "\n",
      "Epoch 18/29\n",
      "----------\n",
      "train Loss: 1.4967 Acc: 0.9729\n",
      "\n",
      "valid Loss: 1.5373 Acc: 0.9303\n",
      "\n",
      "Epoch 19/29\n",
      "----------\n",
      "train Loss: 1.4954 Acc: 0.9738\n",
      "\n",
      "valid Loss: 1.5371 Acc: 0.9295\n",
      "\n",
      "Epoch 20/29\n",
      "----------\n",
      "train Loss: 1.4942 Acc: 0.9745\n",
      "\n",
      "valid Loss: 1.5368 Acc: 0.9293\n",
      "\n",
      "Epoch 21/29\n",
      "----------\n",
      "train Loss: 1.4931 Acc: 0.9751\n",
      "\n",
      "valid Loss: 1.5365 Acc: 0.9305\n",
      "\n",
      "Epoch 22/29\n",
      "----------\n",
      "train Loss: 1.4921 Acc: 0.9760\n",
      "\n",
      "valid Loss: 1.5363 Acc: 0.9300\n",
      "\n",
      "Epoch 23/29\n",
      "----------\n",
      "train Loss: 1.4911 Acc: 0.9766\n",
      "\n",
      "valid Loss: 1.5361 Acc: 0.9300\n",
      "\n",
      "Epoch 24/29\n",
      "----------\n",
      "train Loss: 1.4902 Acc: 0.9772\n",
      "\n",
      "valid Loss: 1.5358 Acc: 0.9292\n",
      "\n",
      "Epoch 25/29\n",
      "----------\n",
      "train Loss: 1.4894 Acc: 0.9776\n",
      "\n",
      "valid Loss: 1.5355 Acc: 0.9295\n",
      "\n",
      "Epoch 26/29\n",
      "----------\n",
      "train Loss: 1.4886 Acc: 0.9782\n",
      "\n",
      "valid Loss: 1.5353 Acc: 0.9298\n",
      "\n",
      "Epoch 27/29\n",
      "----------\n",
      "train Loss: 1.4879 Acc: 0.9786\n",
      "\n",
      "valid Loss: 1.5351 Acc: 0.9297\n",
      "\n",
      "Epoch 28/29\n",
      "----------\n",
      "train Loss: 1.4872 Acc: 0.9792\n",
      "\n",
      "valid Loss: 1.5349 Acc: 0.9298\n",
      "\n",
      "Epoch 29/29\n",
      "----------\n",
      "train Loss: 1.4865 Acc: 0.9796\n",
      "\n",
      "valid Loss: 1.5346 Acc: 0.9293\n",
      "\n",
      "Training complete in 150m 56s\n",
      "Best val Acc: 0.930667\n"
     ]
    }
   ],
   "source": [
    "vgg_model = train_model(vgg_model, criterion, optimizer_vggnet,\n",
    "                         dataloaders,dir,logger, num_epochs=30,debug=True)"
   ]
  },
  {
   "cell_type": "markdown",
   "metadata": {},
   "source": [
    "## Fine-Tuning VGG16 for Image Classification : Fashion MNIST"
   ]
  },
  {
   "cell_type": "code",
   "execution_count": null,
   "metadata": {},
   "outputs": [],
   "source": [
    "dir = os.path.abspath(os.getcwd()) + \"/model/VGGNet_FineTune/\"\n",
    "log_dir = os.path.abspath(os.getcwd()) + \"/runs/VGGNet_FineTune/\"\n",
    "os.makedirs(log_dir, exist_ok=True)\n",
    "logger = TensorBoardLogger(log_dir)"
   ]
  },
  {
   "cell_type": "code",
   "execution_count": null,
   "metadata": {},
   "outputs": [],
   "source": [
    "model_params_mode(vgg_model, \"unfreeze\")\n",
    "\n",
    "\n",
    "optimizer_vgg = optim.Adam(vgg_model.parameters(), lr=0.00001)\n",
    "\n",
    "# Decay LR by a factor of 0.1 every 7 epochs\n",
    "#exp_lr_scheduler = lr_scheduler.StepLR(optimizer_mobilenet_v3, step_size=1, gamma=0.1)\n",
    "\n",
    "vgg_model = train_model(vgg_model, criterion, optimizer_vgg,\n",
    "                         dataloaders,dir,logger, num_epochs=10,debug=True)"
   ]
  },
  {
   "cell_type": "markdown",
   "metadata": {},
   "source": [
    "## test VGG16"
   ]
  },
  {
   "cell_type": "code",
   "execution_count": 36,
   "metadata": {},
   "outputs": [
    {
     "data": {
      "text/plain": [
       "<All keys matched successfully>"
      ]
     },
     "execution_count": 36,
     "metadata": {},
     "output_type": "execute_result"
    }
   ],
   "source": [
    "dir = os.path.abspath(os.getcwd()) + \"/model/VGG_FE/\"\n",
    "log_dir = os.path.abspath(os.getcwd()) + \"/runs/VGG_FE/\"\n",
    "logger = TensorBoardLogger(log_dir)\n",
    "\n",
    "vgg_model.load_state_dict(torch.load(dir + 'best_model_params.pt'))"
   ]
  },
  {
   "cell_type": "code",
   "execution_count": 37,
   "metadata": {},
   "outputs": [
    {
     "name": "stderr",
     "output_type": "stream",
     "text": [
      "c:\\Users\\kevin\\miniconda3\\envs\\neural_sys_fashion_mnist\\Lib\\site-packages\\torch\\nn\\modules\\conv.py:456: UserWarning: Plan failed with a cudnnException: CUDNN_BACKEND_EXECUTION_PLAN_DESCRIPTOR: cudnnFinalize Descriptor Failed cudnn_status: CUDNN_STATUS_NOT_SUPPORTED (Triggered internally at C:\\cb\\pytorch_1000000000000\\work\\aten\\src\\ATen\\native\\cudnn\\Conv_v8.cpp:919.)\n",
      "  return F.conv2d(input, weight, bias, self.stride,\n"
     ]
    }
   ],
   "source": [
    "test_model(vgg_model,logger)"
   ]
  },
  {
   "cell_type": "markdown",
   "metadata": {},
   "source": [
    "# Inception V3 for Image Classification : Fashion MNIST"
   ]
  },
  {
   "cell_type": "code",
   "execution_count": 43,
   "metadata": {},
   "outputs": [
    {
     "name": "stderr",
     "output_type": "stream",
     "text": [
      "c:\\Users\\kevin\\miniconda3\\envs\\neural_sys_fashion_mnist\\Lib\\site-packages\\torchvision\\models\\_utils.py:135: UserWarning: Using 'weights' as positional parameter(s) is deprecated since 0.13 and may be removed in the future. Please use keyword parameter(s) instead.\n",
      "  warnings.warn(\n"
     ]
    }
   ],
   "source": [
    "inception_v3_model = inception_v3(Inception_V3_Weights.DEFAULT)"
   ]
  },
  {
   "cell_type": "code",
   "execution_count": 44,
   "metadata": {},
   "outputs": [
    {
     "data": {
      "text/plain": [
       "Inception3(\n",
       "  (Conv2d_1a_3x3): BasicConv2d(\n",
       "    (conv): Conv2d(3, 32, kernel_size=(3, 3), stride=(2, 2), bias=False)\n",
       "    (bn): BatchNorm2d(32, eps=0.001, momentum=0.1, affine=True, track_running_stats=True)\n",
       "  )\n",
       "  (Conv2d_2a_3x3): BasicConv2d(\n",
       "    (conv): Conv2d(32, 32, kernel_size=(3, 3), stride=(1, 1), bias=False)\n",
       "    (bn): BatchNorm2d(32, eps=0.001, momentum=0.1, affine=True, track_running_stats=True)\n",
       "  )\n",
       "  (Conv2d_2b_3x3): BasicConv2d(\n",
       "    (conv): Conv2d(32, 64, kernel_size=(3, 3), stride=(1, 1), padding=(1, 1), bias=False)\n",
       "    (bn): BatchNorm2d(64, eps=0.001, momentum=0.1, affine=True, track_running_stats=True)\n",
       "  )\n",
       "  (maxpool1): MaxPool2d(kernel_size=3, stride=2, padding=0, dilation=1, ceil_mode=False)\n",
       "  (Conv2d_3b_1x1): BasicConv2d(\n",
       "    (conv): Conv2d(64, 80, kernel_size=(1, 1), stride=(1, 1), bias=False)\n",
       "    (bn): BatchNorm2d(80, eps=0.001, momentum=0.1, affine=True, track_running_stats=True)\n",
       "  )\n",
       "  (Conv2d_4a_3x3): BasicConv2d(\n",
       "    (conv): Conv2d(80, 192, kernel_size=(3, 3), stride=(1, 1), bias=False)\n",
       "    (bn): BatchNorm2d(192, eps=0.001, momentum=0.1, affine=True, track_running_stats=True)\n",
       "  )\n",
       "  (maxpool2): MaxPool2d(kernel_size=3, stride=2, padding=0, dilation=1, ceil_mode=False)\n",
       "  (Mixed_5b): InceptionA(\n",
       "    (branch1x1): BasicConv2d(\n",
       "      (conv): Conv2d(192, 64, kernel_size=(1, 1), stride=(1, 1), bias=False)\n",
       "      (bn): BatchNorm2d(64, eps=0.001, momentum=0.1, affine=True, track_running_stats=True)\n",
       "    )\n",
       "    (branch5x5_1): BasicConv2d(\n",
       "      (conv): Conv2d(192, 48, kernel_size=(1, 1), stride=(1, 1), bias=False)\n",
       "      (bn): BatchNorm2d(48, eps=0.001, momentum=0.1, affine=True, track_running_stats=True)\n",
       "    )\n",
       "    (branch5x5_2): BasicConv2d(\n",
       "      (conv): Conv2d(48, 64, kernel_size=(5, 5), stride=(1, 1), padding=(2, 2), bias=False)\n",
       "      (bn): BatchNorm2d(64, eps=0.001, momentum=0.1, affine=True, track_running_stats=True)\n",
       "    )\n",
       "    (branch3x3dbl_1): BasicConv2d(\n",
       "      (conv): Conv2d(192, 64, kernel_size=(1, 1), stride=(1, 1), bias=False)\n",
       "      (bn): BatchNorm2d(64, eps=0.001, momentum=0.1, affine=True, track_running_stats=True)\n",
       "    )\n",
       "    (branch3x3dbl_2): BasicConv2d(\n",
       "      (conv): Conv2d(64, 96, kernel_size=(3, 3), stride=(1, 1), padding=(1, 1), bias=False)\n",
       "      (bn): BatchNorm2d(96, eps=0.001, momentum=0.1, affine=True, track_running_stats=True)\n",
       "    )\n",
       "    (branch3x3dbl_3): BasicConv2d(\n",
       "      (conv): Conv2d(96, 96, kernel_size=(3, 3), stride=(1, 1), padding=(1, 1), bias=False)\n",
       "      (bn): BatchNorm2d(96, eps=0.001, momentum=0.1, affine=True, track_running_stats=True)\n",
       "    )\n",
       "    (branch_pool): BasicConv2d(\n",
       "      (conv): Conv2d(192, 32, kernel_size=(1, 1), stride=(1, 1), bias=False)\n",
       "      (bn): BatchNorm2d(32, eps=0.001, momentum=0.1, affine=True, track_running_stats=True)\n",
       "    )\n",
       "  )\n",
       "  (Mixed_5c): InceptionA(\n",
       "    (branch1x1): BasicConv2d(\n",
       "      (conv): Conv2d(256, 64, kernel_size=(1, 1), stride=(1, 1), bias=False)\n",
       "      (bn): BatchNorm2d(64, eps=0.001, momentum=0.1, affine=True, track_running_stats=True)\n",
       "    )\n",
       "    (branch5x5_1): BasicConv2d(\n",
       "      (conv): Conv2d(256, 48, kernel_size=(1, 1), stride=(1, 1), bias=False)\n",
       "      (bn): BatchNorm2d(48, eps=0.001, momentum=0.1, affine=True, track_running_stats=True)\n",
       "    )\n",
       "    (branch5x5_2): BasicConv2d(\n",
       "      (conv): Conv2d(48, 64, kernel_size=(5, 5), stride=(1, 1), padding=(2, 2), bias=False)\n",
       "      (bn): BatchNorm2d(64, eps=0.001, momentum=0.1, affine=True, track_running_stats=True)\n",
       "    )\n",
       "    (branch3x3dbl_1): BasicConv2d(\n",
       "      (conv): Conv2d(256, 64, kernel_size=(1, 1), stride=(1, 1), bias=False)\n",
       "      (bn): BatchNorm2d(64, eps=0.001, momentum=0.1, affine=True, track_running_stats=True)\n",
       "    )\n",
       "    (branch3x3dbl_2): BasicConv2d(\n",
       "      (conv): Conv2d(64, 96, kernel_size=(3, 3), stride=(1, 1), padding=(1, 1), bias=False)\n",
       "      (bn): BatchNorm2d(96, eps=0.001, momentum=0.1, affine=True, track_running_stats=True)\n",
       "    )\n",
       "    (branch3x3dbl_3): BasicConv2d(\n",
       "      (conv): Conv2d(96, 96, kernel_size=(3, 3), stride=(1, 1), padding=(1, 1), bias=False)\n",
       "      (bn): BatchNorm2d(96, eps=0.001, momentum=0.1, affine=True, track_running_stats=True)\n",
       "    )\n",
       "    (branch_pool): BasicConv2d(\n",
       "      (conv): Conv2d(256, 64, kernel_size=(1, 1), stride=(1, 1), bias=False)\n",
       "      (bn): BatchNorm2d(64, eps=0.001, momentum=0.1, affine=True, track_running_stats=True)\n",
       "    )\n",
       "  )\n",
       "  (Mixed_5d): InceptionA(\n",
       "    (branch1x1): BasicConv2d(\n",
       "      (conv): Conv2d(288, 64, kernel_size=(1, 1), stride=(1, 1), bias=False)\n",
       "      (bn): BatchNorm2d(64, eps=0.001, momentum=0.1, affine=True, track_running_stats=True)\n",
       "    )\n",
       "    (branch5x5_1): BasicConv2d(\n",
       "      (conv): Conv2d(288, 48, kernel_size=(1, 1), stride=(1, 1), bias=False)\n",
       "      (bn): BatchNorm2d(48, eps=0.001, momentum=0.1, affine=True, track_running_stats=True)\n",
       "    )\n",
       "    (branch5x5_2): BasicConv2d(\n",
       "      (conv): Conv2d(48, 64, kernel_size=(5, 5), stride=(1, 1), padding=(2, 2), bias=False)\n",
       "      (bn): BatchNorm2d(64, eps=0.001, momentum=0.1, affine=True, track_running_stats=True)\n",
       "    )\n",
       "    (branch3x3dbl_1): BasicConv2d(\n",
       "      (conv): Conv2d(288, 64, kernel_size=(1, 1), stride=(1, 1), bias=False)\n",
       "      (bn): BatchNorm2d(64, eps=0.001, momentum=0.1, affine=True, track_running_stats=True)\n",
       "    )\n",
       "    (branch3x3dbl_2): BasicConv2d(\n",
       "      (conv): Conv2d(64, 96, kernel_size=(3, 3), stride=(1, 1), padding=(1, 1), bias=False)\n",
       "      (bn): BatchNorm2d(96, eps=0.001, momentum=0.1, affine=True, track_running_stats=True)\n",
       "    )\n",
       "    (branch3x3dbl_3): BasicConv2d(\n",
       "      (conv): Conv2d(96, 96, kernel_size=(3, 3), stride=(1, 1), padding=(1, 1), bias=False)\n",
       "      (bn): BatchNorm2d(96, eps=0.001, momentum=0.1, affine=True, track_running_stats=True)\n",
       "    )\n",
       "    (branch_pool): BasicConv2d(\n",
       "      (conv): Conv2d(288, 64, kernel_size=(1, 1), stride=(1, 1), bias=False)\n",
       "      (bn): BatchNorm2d(64, eps=0.001, momentum=0.1, affine=True, track_running_stats=True)\n",
       "    )\n",
       "  )\n",
       "  (Mixed_6a): InceptionB(\n",
       "    (branch3x3): BasicConv2d(\n",
       "      (conv): Conv2d(288, 384, kernel_size=(3, 3), stride=(2, 2), bias=False)\n",
       "      (bn): BatchNorm2d(384, eps=0.001, momentum=0.1, affine=True, track_running_stats=True)\n",
       "    )\n",
       "    (branch3x3dbl_1): BasicConv2d(\n",
       "      (conv): Conv2d(288, 64, kernel_size=(1, 1), stride=(1, 1), bias=False)\n",
       "      (bn): BatchNorm2d(64, eps=0.001, momentum=0.1, affine=True, track_running_stats=True)\n",
       "    )\n",
       "    (branch3x3dbl_2): BasicConv2d(\n",
       "      (conv): Conv2d(64, 96, kernel_size=(3, 3), stride=(1, 1), padding=(1, 1), bias=False)\n",
       "      (bn): BatchNorm2d(96, eps=0.001, momentum=0.1, affine=True, track_running_stats=True)\n",
       "    )\n",
       "    (branch3x3dbl_3): BasicConv2d(\n",
       "      (conv): Conv2d(96, 96, kernel_size=(3, 3), stride=(2, 2), bias=False)\n",
       "      (bn): BatchNorm2d(96, eps=0.001, momentum=0.1, affine=True, track_running_stats=True)\n",
       "    )\n",
       "  )\n",
       "  (Mixed_6b): InceptionC(\n",
       "    (branch1x1): BasicConv2d(\n",
       "      (conv): Conv2d(768, 192, kernel_size=(1, 1), stride=(1, 1), bias=False)\n",
       "      (bn): BatchNorm2d(192, eps=0.001, momentum=0.1, affine=True, track_running_stats=True)\n",
       "    )\n",
       "    (branch7x7_1): BasicConv2d(\n",
       "      (conv): Conv2d(768, 128, kernel_size=(1, 1), stride=(1, 1), bias=False)\n",
       "      (bn): BatchNorm2d(128, eps=0.001, momentum=0.1, affine=True, track_running_stats=True)\n",
       "    )\n",
       "    (branch7x7_2): BasicConv2d(\n",
       "      (conv): Conv2d(128, 128, kernel_size=(1, 7), stride=(1, 1), padding=(0, 3), bias=False)\n",
       "      (bn): BatchNorm2d(128, eps=0.001, momentum=0.1, affine=True, track_running_stats=True)\n",
       "    )\n",
       "    (branch7x7_3): BasicConv2d(\n",
       "      (conv): Conv2d(128, 192, kernel_size=(7, 1), stride=(1, 1), padding=(3, 0), bias=False)\n",
       "      (bn): BatchNorm2d(192, eps=0.001, momentum=0.1, affine=True, track_running_stats=True)\n",
       "    )\n",
       "    (branch7x7dbl_1): BasicConv2d(\n",
       "      (conv): Conv2d(768, 128, kernel_size=(1, 1), stride=(1, 1), bias=False)\n",
       "      (bn): BatchNorm2d(128, eps=0.001, momentum=0.1, affine=True, track_running_stats=True)\n",
       "    )\n",
       "    (branch7x7dbl_2): BasicConv2d(\n",
       "      (conv): Conv2d(128, 128, kernel_size=(7, 1), stride=(1, 1), padding=(3, 0), bias=False)\n",
       "      (bn): BatchNorm2d(128, eps=0.001, momentum=0.1, affine=True, track_running_stats=True)\n",
       "    )\n",
       "    (branch7x7dbl_3): BasicConv2d(\n",
       "      (conv): Conv2d(128, 128, kernel_size=(1, 7), stride=(1, 1), padding=(0, 3), bias=False)\n",
       "      (bn): BatchNorm2d(128, eps=0.001, momentum=0.1, affine=True, track_running_stats=True)\n",
       "    )\n",
       "    (branch7x7dbl_4): BasicConv2d(\n",
       "      (conv): Conv2d(128, 128, kernel_size=(7, 1), stride=(1, 1), padding=(3, 0), bias=False)\n",
       "      (bn): BatchNorm2d(128, eps=0.001, momentum=0.1, affine=True, track_running_stats=True)\n",
       "    )\n",
       "    (branch7x7dbl_5): BasicConv2d(\n",
       "      (conv): Conv2d(128, 192, kernel_size=(1, 7), stride=(1, 1), padding=(0, 3), bias=False)\n",
       "      (bn): BatchNorm2d(192, eps=0.001, momentum=0.1, affine=True, track_running_stats=True)\n",
       "    )\n",
       "    (branch_pool): BasicConv2d(\n",
       "      (conv): Conv2d(768, 192, kernel_size=(1, 1), stride=(1, 1), bias=False)\n",
       "      (bn): BatchNorm2d(192, eps=0.001, momentum=0.1, affine=True, track_running_stats=True)\n",
       "    )\n",
       "  )\n",
       "  (Mixed_6c): InceptionC(\n",
       "    (branch1x1): BasicConv2d(\n",
       "      (conv): Conv2d(768, 192, kernel_size=(1, 1), stride=(1, 1), bias=False)\n",
       "      (bn): BatchNorm2d(192, eps=0.001, momentum=0.1, affine=True, track_running_stats=True)\n",
       "    )\n",
       "    (branch7x7_1): BasicConv2d(\n",
       "      (conv): Conv2d(768, 160, kernel_size=(1, 1), stride=(1, 1), bias=False)\n",
       "      (bn): BatchNorm2d(160, eps=0.001, momentum=0.1, affine=True, track_running_stats=True)\n",
       "    )\n",
       "    (branch7x7_2): BasicConv2d(\n",
       "      (conv): Conv2d(160, 160, kernel_size=(1, 7), stride=(1, 1), padding=(0, 3), bias=False)\n",
       "      (bn): BatchNorm2d(160, eps=0.001, momentum=0.1, affine=True, track_running_stats=True)\n",
       "    )\n",
       "    (branch7x7_3): BasicConv2d(\n",
       "      (conv): Conv2d(160, 192, kernel_size=(7, 1), stride=(1, 1), padding=(3, 0), bias=False)\n",
       "      (bn): BatchNorm2d(192, eps=0.001, momentum=0.1, affine=True, track_running_stats=True)\n",
       "    )\n",
       "    (branch7x7dbl_1): BasicConv2d(\n",
       "      (conv): Conv2d(768, 160, kernel_size=(1, 1), stride=(1, 1), bias=False)\n",
       "      (bn): BatchNorm2d(160, eps=0.001, momentum=0.1, affine=True, track_running_stats=True)\n",
       "    )\n",
       "    (branch7x7dbl_2): BasicConv2d(\n",
       "      (conv): Conv2d(160, 160, kernel_size=(7, 1), stride=(1, 1), padding=(3, 0), bias=False)\n",
       "      (bn): BatchNorm2d(160, eps=0.001, momentum=0.1, affine=True, track_running_stats=True)\n",
       "    )\n",
       "    (branch7x7dbl_3): BasicConv2d(\n",
       "      (conv): Conv2d(160, 160, kernel_size=(1, 7), stride=(1, 1), padding=(0, 3), bias=False)\n",
       "      (bn): BatchNorm2d(160, eps=0.001, momentum=0.1, affine=True, track_running_stats=True)\n",
       "    )\n",
       "    (branch7x7dbl_4): BasicConv2d(\n",
       "      (conv): Conv2d(160, 160, kernel_size=(7, 1), stride=(1, 1), padding=(3, 0), bias=False)\n",
       "      (bn): BatchNorm2d(160, eps=0.001, momentum=0.1, affine=True, track_running_stats=True)\n",
       "    )\n",
       "    (branch7x7dbl_5): BasicConv2d(\n",
       "      (conv): Conv2d(160, 192, kernel_size=(1, 7), stride=(1, 1), padding=(0, 3), bias=False)\n",
       "      (bn): BatchNorm2d(192, eps=0.001, momentum=0.1, affine=True, track_running_stats=True)\n",
       "    )\n",
       "    (branch_pool): BasicConv2d(\n",
       "      (conv): Conv2d(768, 192, kernel_size=(1, 1), stride=(1, 1), bias=False)\n",
       "      (bn): BatchNorm2d(192, eps=0.001, momentum=0.1, affine=True, track_running_stats=True)\n",
       "    )\n",
       "  )\n",
       "  (Mixed_6d): InceptionC(\n",
       "    (branch1x1): BasicConv2d(\n",
       "      (conv): Conv2d(768, 192, kernel_size=(1, 1), stride=(1, 1), bias=False)\n",
       "      (bn): BatchNorm2d(192, eps=0.001, momentum=0.1, affine=True, track_running_stats=True)\n",
       "    )\n",
       "    (branch7x7_1): BasicConv2d(\n",
       "      (conv): Conv2d(768, 160, kernel_size=(1, 1), stride=(1, 1), bias=False)\n",
       "      (bn): BatchNorm2d(160, eps=0.001, momentum=0.1, affine=True, track_running_stats=True)\n",
       "    )\n",
       "    (branch7x7_2): BasicConv2d(\n",
       "      (conv): Conv2d(160, 160, kernel_size=(1, 7), stride=(1, 1), padding=(0, 3), bias=False)\n",
       "      (bn): BatchNorm2d(160, eps=0.001, momentum=0.1, affine=True, track_running_stats=True)\n",
       "    )\n",
       "    (branch7x7_3): BasicConv2d(\n",
       "      (conv): Conv2d(160, 192, kernel_size=(7, 1), stride=(1, 1), padding=(3, 0), bias=False)\n",
       "      (bn): BatchNorm2d(192, eps=0.001, momentum=0.1, affine=True, track_running_stats=True)\n",
       "    )\n",
       "    (branch7x7dbl_1): BasicConv2d(\n",
       "      (conv): Conv2d(768, 160, kernel_size=(1, 1), stride=(1, 1), bias=False)\n",
       "      (bn): BatchNorm2d(160, eps=0.001, momentum=0.1, affine=True, track_running_stats=True)\n",
       "    )\n",
       "    (branch7x7dbl_2): BasicConv2d(\n",
       "      (conv): Conv2d(160, 160, kernel_size=(7, 1), stride=(1, 1), padding=(3, 0), bias=False)\n",
       "      (bn): BatchNorm2d(160, eps=0.001, momentum=0.1, affine=True, track_running_stats=True)\n",
       "    )\n",
       "    (branch7x7dbl_3): BasicConv2d(\n",
       "      (conv): Conv2d(160, 160, kernel_size=(1, 7), stride=(1, 1), padding=(0, 3), bias=False)\n",
       "      (bn): BatchNorm2d(160, eps=0.001, momentum=0.1, affine=True, track_running_stats=True)\n",
       "    )\n",
       "    (branch7x7dbl_4): BasicConv2d(\n",
       "      (conv): Conv2d(160, 160, kernel_size=(7, 1), stride=(1, 1), padding=(3, 0), bias=False)\n",
       "      (bn): BatchNorm2d(160, eps=0.001, momentum=0.1, affine=True, track_running_stats=True)\n",
       "    )\n",
       "    (branch7x7dbl_5): BasicConv2d(\n",
       "      (conv): Conv2d(160, 192, kernel_size=(1, 7), stride=(1, 1), padding=(0, 3), bias=False)\n",
       "      (bn): BatchNorm2d(192, eps=0.001, momentum=0.1, affine=True, track_running_stats=True)\n",
       "    )\n",
       "    (branch_pool): BasicConv2d(\n",
       "      (conv): Conv2d(768, 192, kernel_size=(1, 1), stride=(1, 1), bias=False)\n",
       "      (bn): BatchNorm2d(192, eps=0.001, momentum=0.1, affine=True, track_running_stats=True)\n",
       "    )\n",
       "  )\n",
       "  (Mixed_6e): InceptionC(\n",
       "    (branch1x1): BasicConv2d(\n",
       "      (conv): Conv2d(768, 192, kernel_size=(1, 1), stride=(1, 1), bias=False)\n",
       "      (bn): BatchNorm2d(192, eps=0.001, momentum=0.1, affine=True, track_running_stats=True)\n",
       "    )\n",
       "    (branch7x7_1): BasicConv2d(\n",
       "      (conv): Conv2d(768, 192, kernel_size=(1, 1), stride=(1, 1), bias=False)\n",
       "      (bn): BatchNorm2d(192, eps=0.001, momentum=0.1, affine=True, track_running_stats=True)\n",
       "    )\n",
       "    (branch7x7_2): BasicConv2d(\n",
       "      (conv): Conv2d(192, 192, kernel_size=(1, 7), stride=(1, 1), padding=(0, 3), bias=False)\n",
       "      (bn): BatchNorm2d(192, eps=0.001, momentum=0.1, affine=True, track_running_stats=True)\n",
       "    )\n",
       "    (branch7x7_3): BasicConv2d(\n",
       "      (conv): Conv2d(192, 192, kernel_size=(7, 1), stride=(1, 1), padding=(3, 0), bias=False)\n",
       "      (bn): BatchNorm2d(192, eps=0.001, momentum=0.1, affine=True, track_running_stats=True)\n",
       "    )\n",
       "    (branch7x7dbl_1): BasicConv2d(\n",
       "      (conv): Conv2d(768, 192, kernel_size=(1, 1), stride=(1, 1), bias=False)\n",
       "      (bn): BatchNorm2d(192, eps=0.001, momentum=0.1, affine=True, track_running_stats=True)\n",
       "    )\n",
       "    (branch7x7dbl_2): BasicConv2d(\n",
       "      (conv): Conv2d(192, 192, kernel_size=(7, 1), stride=(1, 1), padding=(3, 0), bias=False)\n",
       "      (bn): BatchNorm2d(192, eps=0.001, momentum=0.1, affine=True, track_running_stats=True)\n",
       "    )\n",
       "    (branch7x7dbl_3): BasicConv2d(\n",
       "      (conv): Conv2d(192, 192, kernel_size=(1, 7), stride=(1, 1), padding=(0, 3), bias=False)\n",
       "      (bn): BatchNorm2d(192, eps=0.001, momentum=0.1, affine=True, track_running_stats=True)\n",
       "    )\n",
       "    (branch7x7dbl_4): BasicConv2d(\n",
       "      (conv): Conv2d(192, 192, kernel_size=(7, 1), stride=(1, 1), padding=(3, 0), bias=False)\n",
       "      (bn): BatchNorm2d(192, eps=0.001, momentum=0.1, affine=True, track_running_stats=True)\n",
       "    )\n",
       "    (branch7x7dbl_5): BasicConv2d(\n",
       "      (conv): Conv2d(192, 192, kernel_size=(1, 7), stride=(1, 1), padding=(0, 3), bias=False)\n",
       "      (bn): BatchNorm2d(192, eps=0.001, momentum=0.1, affine=True, track_running_stats=True)\n",
       "    )\n",
       "    (branch_pool): BasicConv2d(\n",
       "      (conv): Conv2d(768, 192, kernel_size=(1, 1), stride=(1, 1), bias=False)\n",
       "      (bn): BatchNorm2d(192, eps=0.001, momentum=0.1, affine=True, track_running_stats=True)\n",
       "    )\n",
       "  )\n",
       "  (AuxLogits): InceptionAux(\n",
       "    (conv0): BasicConv2d(\n",
       "      (conv): Conv2d(768, 128, kernel_size=(1, 1), stride=(1, 1), bias=False)\n",
       "      (bn): BatchNorm2d(128, eps=0.001, momentum=0.1, affine=True, track_running_stats=True)\n",
       "    )\n",
       "    (conv1): BasicConv2d(\n",
       "      (conv): Conv2d(128, 768, kernel_size=(5, 5), stride=(1, 1), bias=False)\n",
       "      (bn): BatchNorm2d(768, eps=0.001, momentum=0.1, affine=True, track_running_stats=True)\n",
       "    )\n",
       "    (fc): Linear(in_features=768, out_features=1000, bias=True)\n",
       "  )\n",
       "  (Mixed_7a): InceptionD(\n",
       "    (branch3x3_1): BasicConv2d(\n",
       "      (conv): Conv2d(768, 192, kernel_size=(1, 1), stride=(1, 1), bias=False)\n",
       "      (bn): BatchNorm2d(192, eps=0.001, momentum=0.1, affine=True, track_running_stats=True)\n",
       "    )\n",
       "    (branch3x3_2): BasicConv2d(\n",
       "      (conv): Conv2d(192, 320, kernel_size=(3, 3), stride=(2, 2), bias=False)\n",
       "      (bn): BatchNorm2d(320, eps=0.001, momentum=0.1, affine=True, track_running_stats=True)\n",
       "    )\n",
       "    (branch7x7x3_1): BasicConv2d(\n",
       "      (conv): Conv2d(768, 192, kernel_size=(1, 1), stride=(1, 1), bias=False)\n",
       "      (bn): BatchNorm2d(192, eps=0.001, momentum=0.1, affine=True, track_running_stats=True)\n",
       "    )\n",
       "    (branch7x7x3_2): BasicConv2d(\n",
       "      (conv): Conv2d(192, 192, kernel_size=(1, 7), stride=(1, 1), padding=(0, 3), bias=False)\n",
       "      (bn): BatchNorm2d(192, eps=0.001, momentum=0.1, affine=True, track_running_stats=True)\n",
       "    )\n",
       "    (branch7x7x3_3): BasicConv2d(\n",
       "      (conv): Conv2d(192, 192, kernel_size=(7, 1), stride=(1, 1), padding=(3, 0), bias=False)\n",
       "      (bn): BatchNorm2d(192, eps=0.001, momentum=0.1, affine=True, track_running_stats=True)\n",
       "    )\n",
       "    (branch7x7x3_4): BasicConv2d(\n",
       "      (conv): Conv2d(192, 192, kernel_size=(3, 3), stride=(2, 2), bias=False)\n",
       "      (bn): BatchNorm2d(192, eps=0.001, momentum=0.1, affine=True, track_running_stats=True)\n",
       "    )\n",
       "  )\n",
       "  (Mixed_7b): InceptionE(\n",
       "    (branch1x1): BasicConv2d(\n",
       "      (conv): Conv2d(1280, 320, kernel_size=(1, 1), stride=(1, 1), bias=False)\n",
       "      (bn): BatchNorm2d(320, eps=0.001, momentum=0.1, affine=True, track_running_stats=True)\n",
       "    )\n",
       "    (branch3x3_1): BasicConv2d(\n",
       "      (conv): Conv2d(1280, 384, kernel_size=(1, 1), stride=(1, 1), bias=False)\n",
       "      (bn): BatchNorm2d(384, eps=0.001, momentum=0.1, affine=True, track_running_stats=True)\n",
       "    )\n",
       "    (branch3x3_2a): BasicConv2d(\n",
       "      (conv): Conv2d(384, 384, kernel_size=(1, 3), stride=(1, 1), padding=(0, 1), bias=False)\n",
       "      (bn): BatchNorm2d(384, eps=0.001, momentum=0.1, affine=True, track_running_stats=True)\n",
       "    )\n",
       "    (branch3x3_2b): BasicConv2d(\n",
       "      (conv): Conv2d(384, 384, kernel_size=(3, 1), stride=(1, 1), padding=(1, 0), bias=False)\n",
       "      (bn): BatchNorm2d(384, eps=0.001, momentum=0.1, affine=True, track_running_stats=True)\n",
       "    )\n",
       "    (branch3x3dbl_1): BasicConv2d(\n",
       "      (conv): Conv2d(1280, 448, kernel_size=(1, 1), stride=(1, 1), bias=False)\n",
       "      (bn): BatchNorm2d(448, eps=0.001, momentum=0.1, affine=True, track_running_stats=True)\n",
       "    )\n",
       "    (branch3x3dbl_2): BasicConv2d(\n",
       "      (conv): Conv2d(448, 384, kernel_size=(3, 3), stride=(1, 1), padding=(1, 1), bias=False)\n",
       "      (bn): BatchNorm2d(384, eps=0.001, momentum=0.1, affine=True, track_running_stats=True)\n",
       "    )\n",
       "    (branch3x3dbl_3a): BasicConv2d(\n",
       "      (conv): Conv2d(384, 384, kernel_size=(1, 3), stride=(1, 1), padding=(0, 1), bias=False)\n",
       "      (bn): BatchNorm2d(384, eps=0.001, momentum=0.1, affine=True, track_running_stats=True)\n",
       "    )\n",
       "    (branch3x3dbl_3b): BasicConv2d(\n",
       "      (conv): Conv2d(384, 384, kernel_size=(3, 1), stride=(1, 1), padding=(1, 0), bias=False)\n",
       "      (bn): BatchNorm2d(384, eps=0.001, momentum=0.1, affine=True, track_running_stats=True)\n",
       "    )\n",
       "    (branch_pool): BasicConv2d(\n",
       "      (conv): Conv2d(1280, 192, kernel_size=(1, 1), stride=(1, 1), bias=False)\n",
       "      (bn): BatchNorm2d(192, eps=0.001, momentum=0.1, affine=True, track_running_stats=True)\n",
       "    )\n",
       "  )\n",
       "  (Mixed_7c): InceptionE(\n",
       "    (branch1x1): BasicConv2d(\n",
       "      (conv): Conv2d(2048, 320, kernel_size=(1, 1), stride=(1, 1), bias=False)\n",
       "      (bn): BatchNorm2d(320, eps=0.001, momentum=0.1, affine=True, track_running_stats=True)\n",
       "    )\n",
       "    (branch3x3_1): BasicConv2d(\n",
       "      (conv): Conv2d(2048, 384, kernel_size=(1, 1), stride=(1, 1), bias=False)\n",
       "      (bn): BatchNorm2d(384, eps=0.001, momentum=0.1, affine=True, track_running_stats=True)\n",
       "    )\n",
       "    (branch3x3_2a): BasicConv2d(\n",
       "      (conv): Conv2d(384, 384, kernel_size=(1, 3), stride=(1, 1), padding=(0, 1), bias=False)\n",
       "      (bn): BatchNorm2d(384, eps=0.001, momentum=0.1, affine=True, track_running_stats=True)\n",
       "    )\n",
       "    (branch3x3_2b): BasicConv2d(\n",
       "      (conv): Conv2d(384, 384, kernel_size=(3, 1), stride=(1, 1), padding=(1, 0), bias=False)\n",
       "      (bn): BatchNorm2d(384, eps=0.001, momentum=0.1, affine=True, track_running_stats=True)\n",
       "    )\n",
       "    (branch3x3dbl_1): BasicConv2d(\n",
       "      (conv): Conv2d(2048, 448, kernel_size=(1, 1), stride=(1, 1), bias=False)\n",
       "      (bn): BatchNorm2d(448, eps=0.001, momentum=0.1, affine=True, track_running_stats=True)\n",
       "    )\n",
       "    (branch3x3dbl_2): BasicConv2d(\n",
       "      (conv): Conv2d(448, 384, kernel_size=(3, 3), stride=(1, 1), padding=(1, 1), bias=False)\n",
       "      (bn): BatchNorm2d(384, eps=0.001, momentum=0.1, affine=True, track_running_stats=True)\n",
       "    )\n",
       "    (branch3x3dbl_3a): BasicConv2d(\n",
       "      (conv): Conv2d(384, 384, kernel_size=(1, 3), stride=(1, 1), padding=(0, 1), bias=False)\n",
       "      (bn): BatchNorm2d(384, eps=0.001, momentum=0.1, affine=True, track_running_stats=True)\n",
       "    )\n",
       "    (branch3x3dbl_3b): BasicConv2d(\n",
       "      (conv): Conv2d(384, 384, kernel_size=(3, 1), stride=(1, 1), padding=(1, 0), bias=False)\n",
       "      (bn): BatchNorm2d(384, eps=0.001, momentum=0.1, affine=True, track_running_stats=True)\n",
       "    )\n",
       "    (branch_pool): BasicConv2d(\n",
       "      (conv): Conv2d(2048, 192, kernel_size=(1, 1), stride=(1, 1), bias=False)\n",
       "      (bn): BatchNorm2d(192, eps=0.001, momentum=0.1, affine=True, track_running_stats=True)\n",
       "    )\n",
       "  )\n",
       "  (avgpool): AdaptiveAvgPool2d(output_size=(1, 1))\n",
       "  (dropout): Dropout(p=0.5, inplace=False)\n",
       "  (fc): Linear(in_features=2048, out_features=1000, bias=True)\n",
       ")"
      ]
     },
     "execution_count": 44,
     "metadata": {},
     "output_type": "execute_result"
    }
   ],
   "source": [
    "inception_v3_model"
   ]
  },
  {
   "cell_type": "code",
   "execution_count": 45,
   "metadata": {},
   "outputs": [],
   "source": [
    "model_params_mode(inception_v3_model,\"freeze\")\n",
    "inception_v3_model = update_model(inception_v3_model,labels_size,\"InceptionV3\")"
   ]
  },
  {
   "cell_type": "markdown",
   "metadata": {},
   "source": [
    "## Training Inception V3 for Image Classification : Fashion MNIST"
   ]
  },
  {
   "cell_type": "code",
   "execution_count": 46,
   "metadata": {},
   "outputs": [],
   "source": [
    "inception_v3_model= inception_v3_model.to(device)\n",
    "criterion = nn.CrossEntropyLoss()\n",
    "\n",
    "# Observe that only parameters of final layer are being optimized as\n",
    "# opposed to before.\n",
    "optimizer_inception_v3 = optim.Adam(inception_v3_model.fc.parameters(), lr=0.0001)\n",
    "\n",
    "# Decay LR by a factor of 0.1 every 7 epochs\n",
    "\n",
    "exp_lr_scheduler = lr_scheduler.ExponentialLR(optimizer_inception_v3,0.8)\n",
    "#lr_scheduler.StepLR(optimizer_alexnet, step_size=2, gamma=0.1)"
   ]
  },
  {
   "cell_type": "code",
   "execution_count": null,
   "metadata": {},
   "outputs": [],
   "source": [
    "dir = os.path.abspath(os.getcwd()) + \"/model/InceptionV3_FE/\"\n",
    "log_dir = os.path.abspath(os.getcwd()) + \"/runs/InceptionV3_FE/\"\n",
    "os.makedirs(log_dir, exist_ok=True)\n",
    "logger = TensorBoardLogger(log_dir)"
   ]
  },
  {
   "cell_type": "code",
   "execution_count": null,
   "metadata": {},
   "outputs": [],
   "source": [
    "inception_v3_model = train_model(inception_v3_model, criterion, optimizer_inception_v3,\n",
    "                         dataloaders,dir,logger, num_epochs=30,debug=True)"
   ]
  },
  {
   "cell_type": "markdown",
   "metadata": {},
   "source": [
    "## Test InceptionV3"
   ]
  },
  {
   "cell_type": "code",
   "execution_count": null,
   "metadata": {},
   "outputs": [],
   "source": [
    "dir = os.path.abspath(os.getcwd()) + \"/model/InceptionV3_FE/\"\n",
    "log_dir = os.path.abspath(os.getcwd()) + \"/runs/InceptionV3_FE/\"\n",
    "logger = TensorBoardLogger(log_dir)\n",
    "\n",
    "inception_v3_model.load_state_dict(torch.load(dir + 'best_model_params.pt'))"
   ]
  },
  {
   "cell_type": "markdown",
   "metadata": {},
   "source": [
    "# MobileNet V3 for Image Classification : Fashion MNIST"
   ]
  },
  {
   "cell_type": "code",
   "execution_count": 54,
   "metadata": {},
   "outputs": [],
   "source": [
    "mobilenet_v3_small_model = mobilenet_v3_small(MobileNet_V3_Small_Weights.DEFAULT)"
   ]
  },
  {
   "cell_type": "code",
   "execution_count": 55,
   "metadata": {},
   "outputs": [
    {
     "data": {
      "text/plain": [
       "Sequential(\n",
       "  (12): Conv2dNormActivation(\n",
       "    (0): Conv2d(96, 576, kernel_size=(1, 1), stride=(1, 1), bias=False)\n",
       "    (1): BatchNorm2d(576, eps=0.001, momentum=0.01, affine=True, track_running_stats=True)\n",
       "    (2): Hardswish()\n",
       "  )\n",
       ")"
      ]
     },
     "execution_count": 55,
     "metadata": {},
     "output_type": "execute_result"
    }
   ],
   "source": [
    "mobilenet_v3_small_model.features[12:]"
   ]
  },
  {
   "cell_type": "code",
   "execution_count": 56,
   "metadata": {},
   "outputs": [
    {
     "data": {
      "text/plain": [
       "Sequential(\n",
       "  (0): Linear(in_features=576, out_features=1024, bias=True)\n",
       "  (1): Hardswish()\n",
       "  (2): Dropout(p=0.2, inplace=True)\n",
       "  (3): Linear(in_features=1024, out_features=1000, bias=True)\n",
       ")"
      ]
     },
     "execution_count": 56,
     "metadata": {},
     "output_type": "execute_result"
    }
   ],
   "source": [
    "mobilenet_v3_small_model.classifier"
   ]
  },
  {
   "cell_type": "code",
   "execution_count": 57,
   "metadata": {},
   "outputs": [],
   "source": [
    "model_params_mode(mobilenet_v3_small_model,\"freeze\")\n",
    "mobilenet_v3_small_model = update_model(mobilenet_v3_small_model,labels_size,\"MobileNet\")"
   ]
  },
  {
   "cell_type": "code",
   "execution_count": null,
   "metadata": {},
   "outputs": [
    {
     "data": {
      "text/plain": [
       "Sequential(\n",
       "  (0): Linear(in_features=576, out_features=1024, bias=True)\n",
       "  (1): Hardswish()\n",
       "  (2): Dropout(p=0.2, inplace=True)\n",
       "  (3): Sequential(\n",
       "    (0): Linear(in_features=1024, out_features=10, bias=True)\n",
       "    (1): Softmax(dim=-1)\n",
       "  )\n",
       ")"
      ]
     },
     "execution_count": 46,
     "metadata": {},
     "output_type": "execute_result"
    }
   ],
   "source": [
    "mobilenet_v3_small_model.classifier"
   ]
  },
  {
   "cell_type": "markdown",
   "metadata": {},
   "source": [
    "## Training MobileNet V3 for Image Classification : Fashion MNIST"
   ]
  },
  {
   "cell_type": "code",
   "execution_count": 58,
   "metadata": {},
   "outputs": [],
   "source": [
    "mobilenet_v3_small_model= mobilenet_v3_small_model.to(device)\n",
    "criterion = nn.CrossEntropyLoss()\n",
    "\n",
    "# Observe that only parameters of final layer are being optimized as\n",
    "# opposed to before.\n",
    "optimizer_mobilenet_v3 = optim.Adam(mobilenet_v3_small_model.classifier[3].parameters(), lr=0.0001)\n",
    "\n",
    "# Decay LR by a factor of 0.1 every 7 epochs\n",
    "\n",
    "exp_lr_scheduler = lr_scheduler.ExponentialLR(optimizer_mobilenet_v3,0.8)\n",
    "#lr_scheduler.StepLR(optimizer_alexnet, step_size=2, gamma=0.1)"
   ]
  },
  {
   "cell_type": "code",
   "execution_count": null,
   "metadata": {},
   "outputs": [],
   "source": [
    "dir = os.path.abspath(os.getcwd()) + \"/model/MobileNet_FE/\"\n",
    "log_dir = os.path.abspath(os.getcwd()) + \"/runs/MobileNet_FE/\"\n",
    "os.makedirs(log_dir, exist_ok=True)\n",
    "logger = TensorBoardLogger(log_dir)"
   ]
  },
  {
   "cell_type": "code",
   "execution_count": null,
   "metadata": {},
   "outputs": [
    {
     "name": "stdout",
     "output_type": "stream",
     "text": [
      "Epoch 0/29\n",
      "----------\n",
      "train Loss: 2.0676 Acc: 0.6006\n",
      "\n",
      "valid Loss: 1.9861 Acc: 0.7263\n",
      "\n",
      "Epoch 1/29\n",
      "----------\n",
      "train Loss: 1.8265 Acc: 0.7660\n",
      "\n",
      "valid Loss: 1.7812 Acc: 0.7765\n",
      "\n",
      "Epoch 2/29\n",
      "----------\n",
      "train Loss: 1.7581 Acc: 0.7864\n",
      "\n",
      "valid Loss: 1.7386 Acc: 0.7927\n",
      "\n",
      "Epoch 3/29\n",
      "----------\n",
      "train Loss: 1.7262 Acc: 0.7993\n",
      "\n",
      "valid Loss: 1.7143 Acc: 0.8027\n",
      "\n",
      "Epoch 4/29\n",
      "----------\n",
      "train Loss: 1.7060 Acc: 0.8089\n",
      "\n",
      "valid Loss: 1.6981 Acc: 0.8123\n",
      "\n",
      "Epoch 5/29\n",
      "----------\n",
      "train Loss: 1.6922 Acc: 0.8161\n",
      "\n",
      "valid Loss: 1.6863 Acc: 0.8178\n",
      "\n",
      "Epoch 6/29\n",
      "----------\n",
      "train Loss: 1.6815 Acc: 0.8224\n",
      "\n",
      "valid Loss: 1.6773 Acc: 0.8232\n",
      "\n",
      "Epoch 7/29\n",
      "----------\n",
      "train Loss: 1.6730 Acc: 0.8281\n",
      "\n",
      "valid Loss: 1.6701 Acc: 0.8272\n",
      "\n",
      "Epoch 8/29\n",
      "----------\n",
      "train Loss: 1.6659 Acc: 0.8316\n",
      "\n",
      "valid Loss: 1.6642 Acc: 0.8295\n",
      "\n",
      "Epoch 9/29\n",
      "----------\n",
      "train Loss: 1.6606 Acc: 0.8350\n",
      "\n",
      "valid Loss: 1.6591 Acc: 0.8330\n",
      "\n",
      "Epoch 10/29\n",
      "----------\n",
      "train Loss: 1.6561 Acc: 0.8376\n",
      "\n",
      "valid Loss: 1.6550 Acc: 0.8355\n",
      "\n",
      "Epoch 11/29\n",
      "----------\n",
      "train Loss: 1.6523 Acc: 0.8399\n",
      "\n",
      "valid Loss: 1.6515 Acc: 0.8363\n",
      "\n",
      "Epoch 12/29\n",
      "----------\n",
      "train Loss: 1.6482 Acc: 0.8435\n",
      "\n",
      "valid Loss: 1.6482 Acc: 0.8390\n",
      "\n",
      "Epoch 13/29\n",
      "----------\n",
      "train Loss: 1.6451 Acc: 0.8452\n",
      "\n",
      "valid Loss: 1.6455 Acc: 0.8407\n",
      "\n",
      "Epoch 14/29\n",
      "----------\n",
      "train Loss: 1.6423 Acc: 0.8460\n",
      "\n",
      "valid Loss: 1.6428 Acc: 0.8417\n",
      "\n",
      "Epoch 15/29\n",
      "----------\n",
      "train Loss: 1.6404 Acc: 0.8478\n",
      "\n",
      "valid Loss: 1.6407 Acc: 0.8438\n",
      "\n",
      "Epoch 16/29\n",
      "----------\n",
      "train Loss: 1.6378 Acc: 0.8493\n",
      "\n",
      "valid Loss: 1.6387 Acc: 0.8452\n",
      "\n",
      "Epoch 17/29\n",
      "----------\n",
      "train Loss: 1.6359 Acc: 0.8497\n",
      "\n",
      "valid Loss: 1.6370 Acc: 0.8460\n",
      "\n",
      "Epoch 18/29\n",
      "----------\n",
      "train Loss: 1.6334 Acc: 0.8518\n",
      "\n",
      "valid Loss: 1.6352 Acc: 0.8472\n",
      "\n",
      "Epoch 19/29\n",
      "----------\n",
      "train Loss: 1.6319 Acc: 0.8530\n",
      "\n",
      "valid Loss: 1.6338 Acc: 0.8480\n",
      "\n",
      "Epoch 20/29\n",
      "----------\n",
      "train Loss: 1.6305 Acc: 0.8544\n",
      "\n",
      "valid Loss: 1.6322 Acc: 0.8498\n",
      "\n",
      "Epoch 21/29\n",
      "----------\n",
      "train Loss: 1.6294 Acc: 0.8536\n",
      "\n",
      "valid Loss: 1.6311 Acc: 0.8503\n",
      "\n",
      "Epoch 22/29\n",
      "----------\n",
      "train Loss: 1.6281 Acc: 0.8546\n",
      "\n",
      "valid Loss: 1.6299 Acc: 0.8515\n",
      "\n",
      "Epoch 23/29\n",
      "----------\n",
      "train Loss: 1.6267 Acc: 0.8556\n",
      "\n",
      "valid Loss: 1.6287 Acc: 0.8518\n",
      "\n",
      "Epoch 24/29\n",
      "----------\n",
      "train Loss: 1.6252 Acc: 0.8563\n",
      "\n",
      "valid Loss: 1.6277 Acc: 0.8527\n",
      "\n",
      "Epoch 25/29\n",
      "----------\n",
      "train Loss: 1.6247 Acc: 0.8576\n",
      "\n",
      "valid Loss: 1.6266 Acc: 0.8535\n",
      "\n",
      "Epoch 26/29\n",
      "----------\n",
      "train Loss: 1.6230 Acc: 0.8587\n",
      "\n",
      "valid Loss: 1.6257 Acc: 0.8537\n",
      "\n",
      "Epoch 27/29\n",
      "----------\n",
      "train Loss: 1.6221 Acc: 0.8596\n",
      "\n",
      "valid Loss: 1.6248 Acc: 0.8543\n",
      "\n",
      "Epoch 28/29\n",
      "----------\n",
      "train Loss: 1.6212 Acc: 0.8591\n",
      "\n",
      "valid Loss: 1.6239 Acc: 0.8548\n",
      "\n",
      "Epoch 29/29\n",
      "----------\n",
      "train Loss: 1.6204 Acc: 0.8604\n",
      "\n",
      "valid Loss: 1.6231 Acc: 0.8542\n",
      "\n",
      "Training complete in 35m 2s\n",
      "Best val Acc: 0.854833\n"
     ]
    }
   ],
   "source": [
    "mobilenet_v3_small_model = train_model(mobilenet_v3_small_model, criterion, optimizer_mobilenet_v3,\n",
    "                         dataloaders,dir,logger, num_epochs=30,debug=True)"
   ]
  },
  {
   "cell_type": "markdown",
   "metadata": {},
   "source": [
    "## Fine-Tuning MobileNet V3 for Image Classification : Fashion MNIST"
   ]
  },
  {
   "cell_type": "code",
   "execution_count": null,
   "metadata": {},
   "outputs": [],
   "source": [
    "dir = os.path.abspath(os.getcwd()) + \"/model/MobileNet_FineTune/\"\n",
    "log_dir = os.path.abspath(os.getcwd()) + \"/runs/MobileNet_FineTune/\"\n",
    "os.makedirs(log_dir, exist_ok=True)\n",
    "logger = TensorBoardLogger(log_dir)"
   ]
  },
  {
   "cell_type": "code",
   "execution_count": null,
   "metadata": {},
   "outputs": [],
   "source": [
    "model_params_mode(mobilenet_v3_small_model, \"unfreeze\")\n",
    "\n",
    "\n",
    "optimizer_mobilenet_v3 = optim.Adam(mobilenet_v3_small_model.parameters(), lr=0.00001)\n",
    "\n",
    "# Decay LR by a factor of 0.1 every 7 epochs\n",
    "#exp_lr_scheduler = lr_scheduler.StepLR(optimizer_mobilenet_v3, step_size=1, gamma=0.1)\n",
    "\n",
    "mobilenet_v3_small_model = train_model(mobilenet_v3_small_model, criterion, optimizer_mobilenet_v3,\n",
    "                         dataloaders,dir,logger, num_epochs=10,debug=True)"
   ]
  },
  {
   "cell_type": "markdown",
   "metadata": {},
   "source": [
    "## Test MobileNet V3"
   ]
  },
  {
   "cell_type": "code",
   "execution_count": 59,
   "metadata": {},
   "outputs": [
    {
     "data": {
      "text/plain": [
       "<All keys matched successfully>"
      ]
     },
     "execution_count": 59,
     "metadata": {},
     "output_type": "execute_result"
    }
   ],
   "source": [
    "dir = os.path.abspath(os.getcwd()) + \"/model/MobileNet_FE/\"\n",
    "log_dir = os.path.abspath(os.getcwd()) + \"/runs/MobileNet_FE/\"\n",
    "logger = TensorBoardLogger(log_dir)\n",
    "\n",
    "mobilenet_v3_small_model.load_state_dict(torch.load(dir + 'best_model_params.pt'))"
   ]
  },
  {
   "cell_type": "code",
   "execution_count": 60,
   "metadata": {},
   "outputs": [],
   "source": [
    "test_model(mobilenet_v3_small_model,logger)"
   ]
  }
 ],
 "metadata": {
  "kernelspec": {
   "display_name": "neu_sys_proj_1",
   "language": "python",
   "name": "python3"
  },
  "language_info": {
   "codemirror_mode": {
    "name": "ipython",
    "version": 3
   },
   "file_extension": ".py",
   "mimetype": "text/x-python",
   "name": "python",
   "nbconvert_exporter": "python",
   "pygments_lexer": "ipython3",
   "version": "3.12.3"
  }
 },
 "nbformat": 4,
 "nbformat_minor": 2
}
