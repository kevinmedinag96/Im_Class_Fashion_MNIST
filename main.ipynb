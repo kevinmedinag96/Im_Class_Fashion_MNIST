{
 "cells": [
  {
   "cell_type": "markdown",
   "metadata": {},
   "source": [
    "# Fashion MNIST: Loading & Preprocessing Data"
   ]
  },
  {
   "cell_type": "code",
   "execution_count": 207,
   "metadata": {},
   "outputs": [],
   "source": [
    "import numpy as np\n",
    "#import pandas as pd\n",
    "import matplotlib.pyplot as plt\n",
    "import time\n",
    "\n",
    "import torch\n",
    "import torch.nn as nn\n",
    "from torch.autograd import Variable\n",
    "import torchvision.models as models\n",
    "from torchvision.models import alexnet, AlexNet_Weights, inception_v3, Inception_V3_Weights, vgg16, VGG16_Weights\n",
    "from torchvision.transforms import v2\n",
    "import torch.optim as optim\n",
    "from torch.optim import lr_scheduler\n",
    "import os\n",
    "from tempfile import TemporaryDirectory\n",
    "\n",
    "import torchvision\n",
    "import torchvision.transforms as transforms\n",
    "from torch.utils.data import Dataset, DataLoader\n",
    "from torch.utils.tensorboard import SummaryWriter\n",
    "\n",
    "\n",
    "device = torch.device(\"cuda:0\" if torch.cuda.is_available() else \"cpu\")"
   ]
  },
  {
   "cell_type": "code",
   "execution_count": 208,
   "metadata": {},
   "outputs": [],
   "source": [
    "class TensorBoardLogger:\n",
    "    def __init__(self, log_dir):\n",
    "        self.summary_writer = SummaryWriter(log_dir)\n",
    "\n",
    "    def add_scalars(self, tag_step_value_dict):\n",
    "        \"\"\"\n",
    "        :param parent_tag: str, e.g. \"Training Loss\"\n",
    "        :param tag_step_value_dict: dict, e.g., {\"key\":(step, value), \"q_grad\":(10000, 1.11)}\n",
    "        \"\"\"\n",
    "        for tag, (step, value) in tag_step_value_dict.items():\n",
    "            self.summary_writer.add_scalar(tag, value, step)"
   ]
  },
  {
   "cell_type": "code",
   "execution_count": 209,
   "metadata": {},
   "outputs": [
    {
     "name": "stdout",
     "output_type": "stream",
     "text": [
      "The tensorboard extension is already loaded. To reload it, use:\n",
      "  %reload_ext tensorboard\n"
     ]
    }
   ],
   "source": [
    "%load_ext tensorboard"
   ]
  },
  {
   "cell_type": "markdown",
   "metadata": {},
   "source": [
    "## Train, Validation, Test datasets"
   ]
  },
  {
   "cell_type": "code",
   "execution_count": 210,
   "metadata": {},
   "outputs": [
    {
     "name": "stdout",
     "output_type": "stream",
     "text": [
      "60000\n"
     ]
    }
   ],
   "source": [
    "import torch.utils\n",
    "import torch.utils.data\n",
    "\n",
    "\n",
    "train_set = torchvision.datasets.FashionMNIST(\"./data\", download=True, transform=\n",
    "                                                transforms.Compose([transforms.ToTensor()]))\n",
    "\n",
    "seed = torch.Generator().manual_seed(42)\n",
    "train_portion = 0.9\n",
    "test_portion = 0.1\n",
    "\n",
    "print(len(train_set))\n",
    "\n",
    "train_set, valid_set = torch.utils.data.random_split(train_set,[train_portion,test_portion], seed)\n",
    "\n",
    "\n",
    "\n",
    "test_set = torchvision.datasets.FashionMNIST(\"./data\", download=True, train=False, transform=\n",
    "                                               transforms.Compose([transforms.ToTensor()]))"
   ]
  },
  {
   "cell_type": "code",
   "execution_count": 211,
   "metadata": {},
   "outputs": [],
   "source": [
    "#Create Dataset Class\n",
    "class FashionMNISTDataset(Dataset):\n",
    "    def __init__(self,data) -> None:\n",
    "        super().__init__()\n",
    "\n",
    "        #construct attributes for the features and labels in the dataset\n",
    "        x = []\n",
    "        y = []\n",
    "\n",
    "        for i in range(len(data)):\n",
    "            x.append(data[i][0])\n",
    "            y.append(data[i][1])\n",
    "\n",
    "        \n",
    "\n",
    "        self.x = torch.stack(x)\n",
    "        self.y = torch.Tensor(y)\n",
    "        self.y = self.y.type(dtype=torch.LongTensor)\n",
    "\n",
    "    def __getitem__(self, index):\n",
    "        image = self.x[index]\n",
    "        label = self.y[index]\n",
    "\n",
    "        return image, label\n",
    "\n",
    "    def __len__(self):\n",
    "        return len(self.x)"
   ]
  },
  {
   "cell_type": "code",
   "execution_count": 212,
   "metadata": {},
   "outputs": [],
   "source": [
    "train_dataset = FashionMNISTDataset(train_set)\n",
    "valid_dataset = FashionMNISTDataset(valid_set)\n",
    "test_dataset = FashionMNISTDataset(test_set)\n",
    "\n",
    "train_loader = torch.utils.data.DataLoader(train_dataset, \n",
    "                                           batch_size=100)\n",
    "valid_loader = torch.utils.data.DataLoader(valid_dataset,batch_size=100)\n",
    "test_loader = torch.utils.data.DataLoader(test_dataset,\n",
    "                                          batch_size=100)\n",
    "\n",
    "dataloaders = {\"train\" : [train_loader,len(train_dataset)],\n",
    "               \"valid\" : [valid_loader,len(valid_dataset)],\n",
    "               \"test\" : [test_loader,len(test_loader)]\n",
    "\n",
    "}"
   ]
  },
  {
   "cell_type": "code",
   "execution_count": 213,
   "metadata": {},
   "outputs": [],
   "source": [
    "fashion_mnist_labels = {\n",
    "                 0: \"T-shirt/Top\",\n",
    "                 1: \"Trouser\",\n",
    "                 2: \"Pullover\",\n",
    "                 3: \"Dress\",\n",
    "                 4: \"Coat\", \n",
    "                 5: \"Sandal\", \n",
    "                 6: \"Shirt\",\n",
    "                 7: \"Sneaker\",\n",
    "                 8: \"Bag\",\n",
    "                 9: \"Ankle Boot\"\n",
    "                 }"
   ]
  },
  {
   "cell_type": "code",
   "execution_count": 214,
   "metadata": {},
   "outputs": [],
   "source": [
    "labels_size = len(fashion_mnist_labels.keys())"
   ]
  },
  {
   "cell_type": "code",
   "execution_count": 215,
   "metadata": {},
   "outputs": [],
   "source": [
    "def imshow(inp, normalized_image : str = False, title=None):\n",
    "    \"\"\"Display image for Tensor.\"\"\"\n",
    "    #inp = inp.numpy().transpose((-1,1, 2, 0))\n",
    "    inp = inp.numpy().transpose((1, 2, 0))\n",
    "    mean = np.array([0.485, 0.456, 0.406])\n",
    "    std = np.array([0.229, 0.224, 0.225])\n",
    "    if not normalized_image:\n",
    "        inp = std * inp + mean\n",
    "        inp = np.clip(inp, 0, 1)\n",
    "    plt.imshow(inp)\n",
    "    if title is not None:\n",
    "        plt.title(title)\n",
    "    plt.pause(0.001)  # pause a bit so that plots are updated"
   ]
  },
  {
   "cell_type": "code",
   "execution_count": 216,
   "metadata": {},
   "outputs": [
    {
     "name": "stdout",
     "output_type": "stream",
     "text": [
      "torch.Size([10, 1, 28, 28])\n",
      "torch.Size([3, 62, 242])\n",
      "['Ankle Boot', 'Pullover', 'Sandal', 'T-shirt/Top', 'Sandal', 'Trouser', 'Dress', 'Sandal', 'T-shirt/Top', 'Trouser']\n"
     ]
    },
    {
     "data": {
      "image/png": "[encoded data removed]",
      "text/plain": [
       "<Figure size 640x480 with 1 Axes>"
      ]
     },
     "metadata": {},
     "output_type": "display_data"
    }
   ],
   "source": [
    "# Get a batch of training data\n",
    "\n",
    "demo_loader  = torch.utils.data.DataLoader(train_dataset, batch_size=10)\n",
    "batch = next(iter(demo_loader))\n",
    "images, labels = batch\n",
    "\n",
    "print(images.shape)\n",
    "# Make a grid from batch\n",
    "out = torchvision.utils.make_grid(images)\n",
    "print(out.shape)\n",
    "\n",
    "title = [fashion_mnist_labels[int(x)] for x in labels]\n",
    "print(title)\n",
    "imshow(out, title=title)"
   ]
  },
  {
   "cell_type": "code",
   "execution_count": 217,
   "metadata": {},
   "outputs": [
    {
     "data": {
      "text/plain": [
       "6000"
      ]
     },
     "execution_count": 217,
     "metadata": {},
     "output_type": "execute_result"
    }
   ],
   "source": [
    "dataloaders[\"valid\"][1]"
   ]
  },
  {
   "cell_type": "code",
   "execution_count": 218,
   "metadata": {},
   "outputs": [],
   "source": [
    "def model_params_mode(model,mode : str):\n",
    "    \"\"\"\n",
    "    This functino freezes/unfreezes model parameters depending on the desired input\n",
    "    \"\"\"\n",
    "    if mode == \"freeze\":\n",
    "        grad = True\n",
    "    else:\n",
    "        grad = False\n",
    "\n",
    "    for param in model.parameters():\n",
    "            param.requires_grad = grad\n",
    "\n"
   ]
  },
  {
   "cell_type": "code",
   "execution_count": 219,
   "metadata": {},
   "outputs": [],
   "source": [
    "def update_model(model,out_dim : int, model_name : str):\n",
    "    \"\"\"\n",
    "    This function modifies the model architecture to be compatible with the fashion MNIST output layer\n",
    "    \"\"\"\n",
    "\n",
    "    \n",
    "\n",
    "    if model_name == \"AlexNet\":\n",
    "        in_features = model.classifier[1].in_features\n",
    "    elif model_name == \"VGG\":\n",
    "        in_features =  model.classifier[0].in_features\n",
    "\n",
    "    model.classifier = nn.Sequential(\n",
    "        nn.Dropout(),\n",
    "        nn.Linear(in_features,out_dim),\n",
    "        nn.Softmax(dim=-1)\n",
    "    )\n",
    "\n",
    "    return model\n",
    "\n"
   ]
  },
  {
   "cell_type": "code",
   "execution_count": 220,
   "metadata": {},
   "outputs": [],
   "source": [
    "class Model(nn.Module):\n",
    "    def __init__(self, base_model,neurons : list,base_model_name : str = None) -> None:\n",
    "        super().__init__()\n",
    "        self.base_model = base_model\n",
    "        self.base_model_name = base_model_name\n",
    "        self.neurons = neurons\n",
    "        self.replaceOutputLayer()\n",
    "        \n",
    "\n",
    "    def replaceOutputLayer(self):\n",
    "        for param in self.base_model.parameters():\n",
    "            param.requires_grad = False\n",
    "\n",
    "        last_layer = None\n",
    "        if self.base_model_name == \"AlexNet\": \n",
    "\n",
    "            old_out_features = self.base_model.classifier[6].out_features\n",
    "            #self.base_model.classifier = nn.Linear(old_in_features,self.neurons[1])\n",
    "            \n",
    "        self.out_layer_1 = nn.Linear(old_out_features,self.neurons[1])\n",
    "\n",
    "\n",
    "\n",
    "    def forward(self,x):\n",
    "        x = self.base_model(x)\n",
    "        return self.out_layer_1(x)\n",
    "\n"
   ]
  },
  {
   "cell_type": "code",
   "execution_count": 221,
   "metadata": {},
   "outputs": [],
   "source": [
    "transform_im = v2.Compose([\n",
    "    v2.RandomResizedCrop(size=(299, 299), antialias=True),\n",
    "    v2.RandomHorizontalFlip(p=0.5),\n",
    "    v2.Normalize(mean=[0.485, 0.456, 0.406], std=[0.229, 0.224, 0.225]),\n",
    "])"
   ]
  },
  {
   "cell_type": "code",
   "execution_count": 222,
   "metadata": {},
   "outputs": [
    {
     "name": "stderr",
     "output_type": "stream",
     "text": [
      "Clipping input data to the valid range for imshow with RGB data ([0..1] for floats or [0..255] for integers).\n"
     ]
    },
    {
     "name": "stdout",
     "output_type": "stream",
     "text": [
      "torch.Size([3, 604, 2410])\n"
     ]
    },
    {
     "data": {
      "image/png": "[encoded data removed]",
      "text/plain": [
       "<Figure size 640x480 with 1 Axes>"
      ]
     },
     "metadata": {},
     "output_type": "display_data"
    }
   ],
   "source": [
    "demo_loader  = torch.utils.data.DataLoader(train_dataset, batch_size=10)\n",
    "batch = next(iter(demo_loader))\n",
    "images, labels = batch\n",
    "images = transform_im(images)\n",
    "\n",
    "# Make a grid from batch\n",
    "out = torchvision.utils.make_grid(images)\n",
    "print(out.shape)\n",
    "\n",
    "title = [fashion_mnist_labels[int(x)] for x in labels]\n",
    "\n",
    "imshow(out,True, title=title)"
   ]
  },
  {
   "cell_type": "code",
   "execution_count": 223,
   "metadata": {},
   "outputs": [],
   "source": [
    "def train_model(model, criterion, optimizer,dataloaders,weight_dir,logger : TensorBoardLogger,scheduler = None, num_epochs=25,debug = False):\n",
    "        since = time.time()\n",
    "\n",
    "   \n",
    "        os.makedirs(weight_dir, exist_ok=True)\n",
    "        best_model_params_path = os.path.join(weight_dir, 'best_model_params.pt')\n",
    "\n",
    "        torch.save(model.state_dict(), best_model_params_path)\n",
    "        best_acc = 0.0\n",
    "        log_vars = {}\n",
    "\n",
    "\n",
    "        for epoch in range(num_epochs):\n",
    "\n",
    "            log_vars.update({\n",
    "                \"learning_rate\" : (epoch,scheduler.get_last_lr()[0] if scheduler else optimizer.param_groups[0]['lr'])\n",
    "            }\n",
    "            )\n",
    "\n",
    "\n",
    "            if debug:\n",
    "                print(f'Epoch {epoch}/{num_epochs - 1}')\n",
    "                print('-' * 10)\n",
    "\n",
    "            # Each epoch has a training and validation phase\n",
    "            for phase in ['train', 'valid']:\n",
    "                if phase == 'train':\n",
    "                    model.train()  # Set model to training mode\n",
    "                else:\n",
    "                    model.eval()   # Set model to evaluate mode\n",
    "\n",
    "                running_loss = 0.0\n",
    "                running_corrects = 0\n",
    "\n",
    "                # Iterate over data.\n",
    "                for inputs, labels in dataloaders[phase][0]:\n",
    "                    inputs = inputs.to(device)\n",
    "                    labels = labels.to(device)\n",
    "\n",
    "                    # zero the parameter gradients\n",
    "                    optimizer.zero_grad()\n",
    "\n",
    "                    # forward\n",
    "                    # track history if only in train\n",
    "                    with torch.set_grad_enabled(phase == 'train'):\n",
    "                        outputs = model(transform_im(inputs))\n",
    "                        _, preds = torch.max(outputs, 1)\n",
    "                        loss = criterion(outputs, labels)\n",
    "\n",
    "                        # backward + optimize only if in training phase\n",
    "                        if phase == 'train':\n",
    "                            loss.backward()\n",
    "                            optimizer.step()\n",
    "\n",
    "                    # statistics\n",
    "                    running_loss += loss.item() * inputs.size(0)\n",
    "                    running_corrects += torch.sum(preds == labels.data)\n",
    "                    \n",
    "                if phase == 'train' and scheduler:\n",
    "                    scheduler.step()\n",
    "\n",
    "                epoch_loss = running_loss / dataloaders[phase][1]\n",
    "                epoch_acc = running_corrects.double() / dataloaders[phase][1]\n",
    "\n",
    "                if debug:\n",
    "                    print(f'{phase} Loss: {epoch_loss:.4f} Acc: {epoch_acc:.4f}\\n')\n",
    "\n",
    "                # deep copy the model\n",
    "                if phase == 'valid' and epoch_acc > best_acc:\n",
    "                    best_acc = epoch_acc\n",
    "                    torch.save(model.state_dict(), best_model_params_path)\n",
    "\n",
    "                log_vars.update(\n",
    "                    {f\"{phase}/Loss\" : (epoch,epoch_loss),\n",
    "                                      f\"{phase}/Accuracy\" : (epoch,epoch_acc.cpu().numpy())\n",
    "                    }\n",
    "                )\n",
    "                \n",
    "                logger.add_scalars(log_vars)\n",
    "        \n",
    "\n",
    "        time_elapsed = time.time() - since\n",
    "        if debug:\n",
    "            print(f'Training complete in {time_elapsed // 60:.0f}m {time_elapsed % 60:.0f}s')\n",
    "            print(f'Best val Acc: {best_acc:4f}')\n",
    "\n",
    "        # load best model weights\n",
    "        model.load_state_dict(torch.load(best_model_params_path))\n",
    "        return model"
   ]
  },
  {
   "cell_type": "code",
   "execution_count": 224,
   "metadata": {},
   "outputs": [],
   "source": [
    "def test_model(model,logger : TensorBoardLogger):\n",
    "    model.eval()\n",
    "\n",
    "    log_vars = {}\n",
    "\n",
    "    tot_accurate_pred = 0\n",
    "\n",
    "\n",
    "    for i,(image,labels) in enumerate(dataloaders[\"test\"][0]):\n",
    "        image,labels = image.to(device),labels.to(device)\n",
    "\n",
    "        #predictions...\n",
    "        with torch.no_grad():\n",
    "            predictions = model(transform_im(image))\n",
    "            _,predictions = torch.max(predictions,dim=-1)\n",
    "            accurate_pred = torch.sum(predictions == labels.data)\n",
    "\n",
    "\n",
    "        log_vars.update(\n",
    "            {\n",
    "                \"Test/Accuracy_Batch\" : (i, accurate_pred.double().cpu().numpy() / image.shape[0])\n",
    "            }\n",
    "        )\n",
    "\n",
    "        logger.add_scalars(log_vars)\n",
    "\n",
    "        tot_accurate_pred += accurate_pred.double().cpu().numpy()\n",
    "\n",
    "    log_vars.update(\n",
    "            {\n",
    "                \"Test/Accuracy_Tot\" : (0, tot_accurate_pred / dataloaders[\"test\"][1])\n",
    "            }\n",
    "        )\n",
    "    \n",
    "    logger.add_scalars(\n",
    "        {\n",
    "                \"Test/Accuracy_Tot\" : (0, tot_accurate_pred / dataloaders[\"test\"][1])\n",
    "            }\n",
    "    )\n",
    "    \n",
    "\n",
    "\n",
    "\n"
   ]
  },
  {
   "cell_type": "markdown",
   "metadata": {},
   "source": [
    "# AlexNet for Image Classification : Fashion MNIST"
   ]
  },
  {
   "cell_type": "code",
   "execution_count": 225,
   "metadata": {},
   "outputs": [
    {
     "name": "stderr",
     "output_type": "stream",
     "text": [
      "c:\\Users\\kevin\\miniconda3\\envs\\neural_sys_fashion_mnist\\Lib\\site-packages\\torchvision\\models\\_utils.py:135: UserWarning: Using 'weights' as positional parameter(s) is deprecated since 0.13 and may be removed in the future. Please use keyword parameter(s) instead.\n",
      "  warnings.warn(\n"
     ]
    }
   ],
   "source": [
    "alexnet_model = alexnet(AlexNet_Weights.DEFAULT)"
   ]
  },
  {
   "cell_type": "code",
   "execution_count": 226,
   "metadata": {},
   "outputs": [
    {
     "data": {
      "text/plain": [
       "AlexNet(\n",
       "  (features): Sequential(\n",
       "    (0): Conv2d(3, 64, kernel_size=(11, 11), stride=(4, 4), padding=(2, 2))\n",
       "    (1): ReLU(inplace=True)\n",
       "    (2): MaxPool2d(kernel_size=3, stride=2, padding=0, dilation=1, ceil_mode=False)\n",
       "    (3): Conv2d(64, 192, kernel_size=(5, 5), stride=(1, 1), padding=(2, 2))\n",
       "    (4): ReLU(inplace=True)\n",
       "    (5): MaxPool2d(kernel_size=3, stride=2, padding=0, dilation=1, ceil_mode=False)\n",
       "    (6): Conv2d(192, 384, kernel_size=(3, 3), stride=(1, 1), padding=(1, 1))\n",
       "    (7): ReLU(inplace=True)\n",
       "    (8): Conv2d(384, 256, kernel_size=(3, 3), stride=(1, 1), padding=(1, 1))\n",
       "    (9): ReLU(inplace=True)\n",
       "    (10): Conv2d(256, 256, kernel_size=(3, 3), stride=(1, 1), padding=(1, 1))\n",
       "    (11): ReLU(inplace=True)\n",
       "    (12): MaxPool2d(kernel_size=3, stride=2, padding=0, dilation=1, ceil_mode=False)\n",
       "  )\n",
       "  (avgpool): AdaptiveAvgPool2d(output_size=(6, 6))\n",
       "  (classifier): Sequential(\n",
       "    (0): Dropout(p=0.5, inplace=False)\n",
       "    (1): Linear(in_features=9216, out_features=4096, bias=True)\n",
       "    (2): ReLU(inplace=True)\n",
       "    (3): Dropout(p=0.5, inplace=False)\n",
       "    (4): Linear(in_features=4096, out_features=4096, bias=True)\n",
       "    (5): ReLU(inplace=True)\n",
       "    (6): Linear(in_features=4096, out_features=1000, bias=True)\n",
       "  )\n",
       ")"
      ]
     },
     "execution_count": 226,
     "metadata": {},
     "output_type": "execute_result"
    }
   ],
   "source": [
    "alexnet_model"
   ]
  },
  {
   "cell_type": "code",
   "execution_count": 227,
   "metadata": {},
   "outputs": [],
   "source": [
    "model_params_mode(alexnet_model,\"freeze\")\n",
    "alexnet_model = update_model(alexnet_model,labels_size,\"AlexNet\")"
   ]
  },
  {
   "cell_type": "code",
   "execution_count": 228,
   "metadata": {},
   "outputs": [
    {
     "data": {
      "text/plain": [
       "AlexNet(\n",
       "  (features): Sequential(\n",
       "    (0): Conv2d(3, 64, kernel_size=(11, 11), stride=(4, 4), padding=(2, 2))\n",
       "    (1): ReLU(inplace=True)\n",
       "    (2): MaxPool2d(kernel_size=3, stride=2, padding=0, dilation=1, ceil_mode=False)\n",
       "    (3): Conv2d(64, 192, kernel_size=(5, 5), stride=(1, 1), padding=(2, 2))\n",
       "    (4): ReLU(inplace=True)\n",
       "    (5): MaxPool2d(kernel_size=3, stride=2, padding=0, dilation=1, ceil_mode=False)\n",
       "    (6): Conv2d(192, 384, kernel_size=(3, 3), stride=(1, 1), padding=(1, 1))\n",
       "    (7): ReLU(inplace=True)\n",
       "    (8): Conv2d(384, 256, kernel_size=(3, 3), stride=(1, 1), padding=(1, 1))\n",
       "    (9): ReLU(inplace=True)\n",
       "    (10): Conv2d(256, 256, kernel_size=(3, 3), stride=(1, 1), padding=(1, 1))\n",
       "    (11): ReLU(inplace=True)\n",
       "    (12): MaxPool2d(kernel_size=3, stride=2, padding=0, dilation=1, ceil_mode=False)\n",
       "  )\n",
       "  (avgpool): AdaptiveAvgPool2d(output_size=(6, 6))\n",
       "  (classifier): Sequential(\n",
       "    (0): Dropout(p=0.5, inplace=False)\n",
       "    (1): Linear(in_features=9216, out_features=10, bias=True)\n",
       "    (2): Softmax(dim=-1)\n",
       "  )\n",
       ")"
      ]
     },
     "execution_count": 228,
     "metadata": {},
     "output_type": "execute_result"
    }
   ],
   "source": [
    "alexnet_model"
   ]
  },
  {
   "cell_type": "code",
   "execution_count": 229,
   "metadata": {},
   "outputs": [
    {
     "data": {
      "text/plain": [
       "tensor([[0.0873, 0.0777, 0.1079, 0.1535, 0.0790, 0.0810, 0.1113, 0.1097, 0.1066,\n",
       "         0.0859],\n",
       "        [0.0926, 0.0743, 0.0994, 0.1050, 0.0981, 0.0807, 0.1440, 0.0969, 0.1094,\n",
       "         0.0997],\n",
       "        [0.1099, 0.0710, 0.1468, 0.0961, 0.1182, 0.0740, 0.1055, 0.0961, 0.0975,\n",
       "         0.0849],\n",
       "        [0.1154, 0.0765, 0.0819, 0.0851, 0.0678, 0.0883, 0.1562, 0.0967, 0.1164,\n",
       "         0.1157],\n",
       "        [0.1544, 0.1394, 0.0744, 0.0701, 0.1346, 0.0531, 0.0972, 0.0827, 0.0544,\n",
       "         0.1397],\n",
       "        [0.1108, 0.0481, 0.0716, 0.1112, 0.1233, 0.0659, 0.1378, 0.1439, 0.0857,\n",
       "         0.1017],\n",
       "        [0.1232, 0.0719, 0.0946, 0.0934, 0.0969, 0.0816, 0.1148, 0.0915, 0.1150,\n",
       "         0.1171],\n",
       "        [0.1391, 0.0790, 0.1128, 0.0969, 0.1293, 0.0643, 0.0852, 0.1059, 0.0806,\n",
       "         0.1070],\n",
       "        [0.1467, 0.0751, 0.1001, 0.0854, 0.0960, 0.0719, 0.1275, 0.1005, 0.1085,\n",
       "         0.0884],\n",
       "        [0.1128, 0.0556, 0.0946, 0.0982, 0.1115, 0.0647, 0.1521, 0.1191, 0.0942,\n",
       "         0.0973]], device='cuda:0')"
      ]
     },
     "execution_count": 229,
     "metadata": {},
     "output_type": "execute_result"
    }
   ],
   "source": [
    "demo_loader  = torch.utils.data.DataLoader(train_dataset, batch_size=10)\n",
    "batch = next(iter(demo_loader))\n",
    "images, labels = batch\n",
    "inputs = transform_im(images)\n",
    "with torch.no_grad():\n",
    "    inputs,labels = inputs.to(device), labels.to(device)\n",
    "    alexnet_model.to(device)\n",
    "    alexnet_model.eval()\n",
    "    outputs = alexnet_model(inputs)\n",
    "outputs"
   ]
  },
  {
   "cell_type": "markdown",
   "metadata": {},
   "source": [
    "## Training AlexNet for Image Classification : Fashion MNIST"
   ]
  },
  {
   "cell_type": "code",
   "execution_count": 230,
   "metadata": {},
   "outputs": [],
   "source": [
    "alexnet_model= alexnet_model.to(device)\n",
    "criterion = nn.CrossEntropyLoss()\n",
    "\n",
    "# Observe that only parameters of final layer are being optimized as\n",
    "# opposed to before.\n",
    "optimizer_alexnet = optim.Adam(alexnet_model.classifier.parameters(), lr=0.1)\n",
    "\n",
    "# Decay LR by a factor of 0.1 every 7 epochs\n",
    "\n",
    "exp_lr_scheduler = lr_scheduler.ExponentialLR(optimizer_alexnet,0.0001)\n",
    "#lr_scheduler.StepLR(optimizer_alexnet, step_size=2, gamma=0.1)\n"
   ]
  },
  {
   "cell_type": "code",
   "execution_count": 231,
   "metadata": {},
   "outputs": [],
   "source": [
    "dir = os.path.abspath(os.getcwd()) + \"/model/AlexNet_FE/\"\n",
    "log_dir = os.path.abspath(os.getcwd()) + \"/runs/AlexNet_FE/\"\n",
    "os.makedirs(log_dir, exist_ok=True)\n",
    "logger = TensorBoardLogger(log_dir)"
   ]
  },
  {
   "cell_type": "code",
   "execution_count": 232,
   "metadata": {},
   "outputs": [],
   "source": [
    "alexnet_model = train_model(alexnet_model, criterion, optimizer_alexnet,\n",
    "                         dataloaders,dir,logger,exp_lr_scheduler, num_epochs=30)"
   ]
  },
  {
   "cell_type": "code",
   "execution_count": 233,
   "metadata": {},
   "outputs": [],
   "source": [
    "#Test in AlexNet FeatureExtractor\n",
    "#log_dir = os.path.abspath(os.getcwd()) + \"/runs/AlexNet_FeatureExtractor_Test/\"\n",
    "#os.makedirs(log_dir, exist_ok=True)\n",
    "#logger = TensorBoardLogger(log_dir)\n",
    "test_model(alexnet_model,logger)"
   ]
  },
  {
   "cell_type": "code",
   "execution_count": 1,
   "metadata": {},
   "outputs": [
    {
     "name": "stderr",
     "output_type": "stream",
     "text": [
      "UsageError: Line magic function `%tensorboard` not found.\n"
     ]
    }
   ],
   "source": [
    "%tensorboard --logdir runs/"
   ]
  },
  {
   "cell_type": "markdown",
   "metadata": {},
   "source": [
    "## Fine-Tuning AlexNet for Image Classification : Fashion MNIST"
   ]
  },
  {
   "cell_type": "code",
   "execution_count": 235,
   "metadata": {},
   "outputs": [],
   "source": [
    "dir = os.path.abspath(os.getcwd()) + \"/model/AlexNet/FineTune/\"\n",
    "log_dir = os.path.abspath(os.getcwd()) + \"/runs/AlexNet_FineTune/\"\n",
    "os.makedirs(log_dir, exist_ok=True)\n",
    "logger = TensorBoardLogger(log_dir)"
   ]
  },
  {
   "cell_type": "code",
   "execution_count": 236,
   "metadata": {},
   "outputs": [],
   "source": [
    "for param in alexnet_model.parameters():\n",
    "    param.requires_grad = True\n",
    "\n",
    "optimizer_alexnet = optim.Adam(alexnet_model.parameters(), lr=0.00001)\n",
    "\n",
    "# Decay LR by a factor of 0.1 every 7 epochs\n",
    "exp_lr_scheduler = lr_scheduler.StepLR(optimizer_alexnet, step_size=1, gamma=0.1)\n",
    "\n",
    "alexnet_model = train_model(alexnet_model, criterion, optimizer_alexnet,\n",
    "                         dataloaders,dir,logger, num_epochs=20)"
   ]
  },
  {
   "cell_type": "markdown",
   "metadata": {},
   "source": [
    "# VGG16 for Image Classification : Fashion MNIST"
   ]
  },
  {
   "cell_type": "code",
   "execution_count": 237,
   "metadata": {},
   "outputs": [
    {
     "name": "stderr",
     "output_type": "stream",
     "text": [
      "c:\\Users\\kevin\\miniconda3\\envs\\neural_sys_fashion_mnist\\Lib\\site-packages\\torchvision\\models\\_utils.py:135: UserWarning: Using 'weights' as positional parameter(s) is deprecated since 0.13 and may be removed in the future. Please use keyword parameter(s) instead.\n",
      "  warnings.warn(\n"
     ]
    }
   ],
   "source": [
    "vgg_model = vgg16(VGG16_Weights.DEFAULT)"
   ]
  },
  {
   "cell_type": "code",
   "execution_count": 238,
   "metadata": {},
   "outputs": [],
   "source": [
    "model_params_mode(vgg_model,\"freeze\")\n",
    "vgg_model = update_model(vgg_model,labels_size,\"VGG\")"
   ]
  },
  {
   "cell_type": "markdown",
   "metadata": {},
   "source": [
    "## Training VGG16 for Image Classification : Fashion MNIST"
   ]
  },
  {
   "cell_type": "code",
   "execution_count": 240,
   "metadata": {},
   "outputs": [],
   "source": [
    "vgg_model= vgg_model.to(device)\n",
    "criterion = nn.CrossEntropyLoss()\n",
    "\n",
    "# Observe that only parameters of final layer are being optimized as\n",
    "# opposed to before.\n",
    "optimizer_alexnet = optim.Adam(vgg_model.classifier.parameters(), lr=0.1)\n",
    "\n",
    "# Decay LR by a factor of 0.1 every 7 epochs\n",
    "\n",
    "exp_lr_scheduler = lr_scheduler.StepLR(optimizer_alexnet, step_size=2, gamma=0.05)"
   ]
  },
  {
   "cell_type": "code",
   "execution_count": 241,
   "metadata": {},
   "outputs": [],
   "source": [
    "dir = os.path.abspath(os.getcwd()) + \"/model/VGG_FE/\"\n",
    "log_dir = os.path.abspath(os.getcwd()) + \"/runs/VGG_FE/\"\n",
    "os.makedirs(log_dir, exist_ok=True)\n",
    "logger = TensorBoardLogger(log_dir)"
   ]
  },
  {
   "cell_type": "code",
   "execution_count": 242,
   "metadata": {},
   "outputs": [
    {
     "name": "stderr",
     "output_type": "stream",
     "text": [
      "c:\\Users\\kevin\\miniconda3\\envs\\neural_sys_fashion_mnist\\Lib\\site-packages\\torch\\nn\\modules\\conv.py:456: UserWarning: Plan failed with a cudnnException: CUDNN_BACKEND_EXECUTION_PLAN_DESCRIPTOR: cudnnFinalize Descriptor Failed cudnn_status: CUDNN_STATUS_NOT_SUPPORTED (Triggered internally at C:\\cb\\pytorch_1000000000000\\work\\aten\\src\\ATen\\native\\cudnn\\Conv_v8.cpp:919.)\n",
      "  return F.conv2d(input, weight, bias, self.stride,\n"
     ]
    }
   ],
   "source": [
    "vgg_model = train_model(vgg_model, criterion, optimizer_alexnet,\n",
    "                         dataloaders,dir,logger,exp_lr_scheduler, num_epochs=30)"
   ]
  },
  {
   "cell_type": "markdown",
   "metadata": {},
   "source": [
    "## Fine-Tuning VGG16 for Image Classification : Fashion MNIST"
   ]
  },
  {
   "cell_type": "markdown",
   "metadata": {},
   "source": [
    "# Training GoogleLenet for Image Classification : Fashion MNIST"
   ]
  },
  {
   "cell_type": "markdown",
   "metadata": {},
   "source": [
    "# Fine-Tuning GoogleLenet for Image Classification : Fashion MNIST"
   ]
  },
  {
   "cell_type": "markdown",
   "metadata": {},
   "source": [
    "# Training ResNet for Image Classification : Fashion MNIST"
   ]
  },
  {
   "cell_type": "markdown",
   "metadata": {},
   "source": [
    "# Fine-Tuning ResNet for Image Classification : Fashion MNIST"
   ]
  },
  {
   "cell_type": "code",
   "execution_count": null,
   "metadata": {},
   "outputs": [],
   "source": []
  }
 ],
 "metadata": {
  "kernelspec": {
   "display_name": "neu_sys_proj_1",
   "language": "python",
   "name": "python3"
  },
  "language_info": {
   "codemirror_mode": {
    "name": "ipython",
    "version": 3
   },
   "file_extension": ".py",
   "mimetype": "text/x-python",
   "name": "python",
   "nbconvert_exporter": "python",
   "pygments_lexer": "ipython3",
   "version": "3.12.3"
  }
 },
 "nbformat": 4,
 "nbformat_minor": 2
}
